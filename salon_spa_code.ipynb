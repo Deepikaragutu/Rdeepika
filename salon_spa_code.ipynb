{
 "cells": [
  {
   "cell_type": "code",
   "execution_count": 0,
   "metadata": {
    "application/vnd.databricks.v1+cell": {
     "cellMetadata": {
      "byteLimit": 2048000,
      "rowLimit": 10000
     },
     "inputWidgets": {},
     "nuid": "86c19612-3fa0-4e91-a62c-c661fba584b0",
     "showTitle": false,
     "tableResultSettingsMap": {},
     "title": ""
    }
   },
   "outputs": [
    {
     "output_type": "display_data",
     "data": {
      "text/html": [
       "<style scoped>\n",
       "  .table-result-container {\n",
       "    max-height: 300px;\n",
       "    overflow: auto;\n",
       "  }\n",
       "  table, th, td {\n",
       "    border: 1px solid black;\n",
       "    border-collapse: collapse;\n",
       "  }\n",
       "  th, td {\n",
       "    padding: 5px;\n",
       "  }\n",
       "  th {\n",
       "    text-align: left;\n",
       "  }\n",
       "</style><div class='table-result-container'><table class='table-result'><thead style='background-color: white'><tr><th>Appointment_ID</th><th>Client_ID</th><th>Staff_ID</th><th>Service_ID</th><th>Appointment_DateTime</th><th>Client_Rating</th><th>Rebook_Indicator</th><th>Client_Visit_Count</th></tr></thead><tbody><tr><td>A001</td><td>C016</td><td>S03</td><td>SV09</td><td>2025-07-14T21:18:49.506Z</td><td>3</td><td>No</td><td>3</td></tr><tr><td>A002</td><td>C015</td><td>S01</td><td>SV03</td><td>2025-05-06T23:18:49.506Z</td><td>4</td><td>No</td><td>3</td></tr><tr><td>A003</td><td>C016</td><td>S06</td><td>SV04</td><td>2025-07-01T04:18:49.506Z</td><td>3</td><td>No</td><td>4</td></tr><tr><td>A004</td><td>C007</td><td>S04</td><td>SV09</td><td>2025-08-09T03:18:49.506Z</td><td>2</td><td>No</td><td>7</td></tr><tr><td>A005</td><td>C004</td><td>S05</td><td>SV06</td><td>2025-05-02T07:18:49.506Z</td><td>2</td><td>No</td><td>15</td></tr><tr><td>A006</td><td>C016</td><td>S01</td><td>SV03</td><td>2025-04-24T02:18:49.506Z</td><td>5</td><td>Yes</td><td>14</td></tr><tr><td>A007</td><td>C006</td><td>S08</td><td>SV08</td><td>2025-08-13T21:18:49.506Z</td><td>2</td><td>Yes</td><td>4</td></tr><tr><td>A008</td><td>C018</td><td>S03</td><td>SV06</td><td>2025-08-19T08:18:49.506Z</td><td>4</td><td>Yes</td><td>10</td></tr><tr><td>A009</td><td>C019</td><td>S04</td><td>SV02</td><td>2025-06-07T03:18:49.506Z</td><td>5</td><td>No</td><td>12</td></tr><tr><td>A010</td><td>C010</td><td>S08</td><td>SV01</td><td>2025-08-14T07:18:49.506Z</td><td>3</td><td>No</td><td>15</td></tr><tr><td>A011</td><td>C009</td><td>S03</td><td>SV04</td><td>2025-04-04T22:18:49.506Z</td><td>2</td><td>No</td><td>10</td></tr><tr><td>A012</td><td>C012</td><td>S02</td><td>SV05</td><td>2025-04-24T21:18:49.506Z</td><td>3</td><td>Yes</td><td>14</td></tr><tr><td>A013</td><td>C004</td><td>S08</td><td>SV08</td><td>2025-06-15T08:18:49.506Z</td><td>4</td><td>No</td><td>1</td></tr><tr><td>A014</td><td>C019</td><td>S03</td><td>SV01</td><td>2025-09-02T01:18:49.506Z</td><td>2</td><td>Yes</td><td>10</td></tr><tr><td>A015</td><td>C015</td><td>S02</td><td>SV02</td><td>2025-06-18T06:18:49.506Z</td><td>5</td><td>No</td><td>12</td></tr><tr><td>A016</td><td>C005</td><td>S06</td><td>SV10</td><td>2025-04-04T05:18:49.506Z</td><td>3</td><td>No</td><td>11</td></tr><tr><td>A017</td><td>C019</td><td>S08</td><td>SV04</td><td>2025-09-13T00:18:49.506Z</td><td>4</td><td>Yes</td><td>11</td></tr><tr><td>A018</td><td>C001</td><td>S05</td><td>SV01</td><td>2025-07-23T03:18:49.506Z</td><td>5</td><td>No</td><td>8</td></tr><tr><td>A019</td><td>C009</td><td>S02</td><td>SV05</td><td>2025-05-24T05:18:49.506Z</td><td>3</td><td>Yes</td><td>13</td></tr><tr><td>A020</td><td>C015</td><td>S07</td><td>SV03</td><td>2025-08-23T01:18:49.506Z</td><td>5</td><td>Yes</td><td>13</td></tr><tr><td>A021</td><td>C001</td><td>S05</td><td>SV10</td><td>2025-04-16T02:18:49.506Z</td><td>5</td><td>No</td><td>12</td></tr><tr><td>A022</td><td>C007</td><td>S05</td><td>SV08</td><td>2025-07-28T08:18:49.506Z</td><td>4</td><td>Yes</td><td>13</td></tr><tr><td>A023</td><td>C011</td><td>S06</td><td>SV03</td><td>2025-09-17T23:18:49.506Z</td><td>1</td><td>Yes</td><td>6</td></tr><tr><td>A024</td><td>C015</td><td>S03</td><td>SV02</td><td>2025-04-29T06:18:49.506Z</td><td>3</td><td>No</td><td>2</td></tr><tr><td>A025</td><td>C006</td><td>S03</td><td>SV04</td><td>2025-07-21T05:18:49.506Z</td><td>1</td><td>Yes</td><td>12</td></tr><tr><td>A026</td><td>C001</td><td>S04</td><td>SV03</td><td>2025-04-29T03:18:49.506Z</td><td>4</td><td>Yes</td><td>11</td></tr><tr><td>A027</td><td>C014</td><td>S01</td><td>SV07</td><td>2025-04-30T03:18:49.506Z</td><td>1</td><td>No</td><td>15</td></tr><tr><td>A028</td><td>C005</td><td>S04</td><td>SV04</td><td>2025-08-07T23:18:49.506Z</td><td>5</td><td>Yes</td><td>10</td></tr><tr><td>A029</td><td>C008</td><td>S01</td><td>SV07</td><td>2025-04-28T21:18:49.506Z</td><td>1</td><td>Yes</td><td>3</td></tr><tr><td>A030</td><td>C015</td><td>S07</td><td>SV03</td><td>2025-05-14T23:18:49.506Z</td><td>2</td><td>No</td><td>3</td></tr><tr><td>A031</td><td>C001</td><td>S01</td><td>SV09</td><td>2025-06-12T04:18:49.506Z</td><td>4</td><td>Yes</td><td>8</td></tr><tr><td>A032</td><td>C017</td><td>S02</td><td>SV02</td><td>2025-08-06T03:18:49.506Z</td><td>5</td><td>Yes</td><td>11</td></tr><tr><td>A033</td><td>C008</td><td>S01</td><td>SV02</td><td>2025-09-17T23:18:49.506Z</td><td>1</td><td>Yes</td><td>6</td></tr><tr><td>A034</td><td>C018</td><td>S08</td><td>SV08</td><td>2025-08-13T07:18:49.506Z</td><td>4</td><td>Yes</td><td>12</td></tr><tr><td>A035</td><td>C003</td><td>S08</td><td>SV03</td><td>2025-05-21T01:18:49.506Z</td><td>5</td><td>Yes</td><td>5</td></tr><tr><td>A036</td><td>C015</td><td>S02</td><td>SV06</td><td>2025-05-20T03:18:49.506Z</td><td>4</td><td>Yes</td><td>13</td></tr><tr><td>A037</td><td>C005</td><td>S01</td><td>SV05</td><td>2025-07-12T03:18:49.506Z</td><td>2</td><td>Yes</td><td>8</td></tr><tr><td>A038</td><td>C013</td><td>S04</td><td>SV03</td><td>2025-08-22T06:18:49.506Z</td><td>4</td><td>Yes</td><td>5</td></tr><tr><td>A039</td><td>C006</td><td>S05</td><td>SV06</td><td>2025-07-10T02:18:49.506Z</td><td>3</td><td>No</td><td>7</td></tr><tr><td>A040</td><td>C010</td><td>S03</td><td>SV03</td><td>2025-08-17T23:18:49.506Z</td><td>5</td><td>Yes</td><td>10</td></tr><tr><td>A041</td><td>C002</td><td>S01</td><td>SV02</td><td>2025-07-19T03:18:49.506Z</td><td>4</td><td>Yes</td><td>15</td></tr><tr><td>A042</td><td>C004</td><td>S02</td><td>SV04</td><td>2025-08-02T02:18:49.506Z</td><td>1</td><td>Yes</td><td>1</td></tr><tr><td>A043</td><td>C012</td><td>S02</td><td>SV07</td><td>2025-06-30T01:18:49.506Z</td><td>2</td><td>No</td><td>11</td></tr><tr><td>A044</td><td>C004</td><td>S05</td><td>SV01</td><td>2025-03-27T01:18:49.506Z</td><td>5</td><td>No</td><td>1</td></tr><tr><td>A045</td><td>C019</td><td>S06</td><td>SV10</td><td>2025-07-20T08:18:49.506Z</td><td>5</td><td>Yes</td><td>12</td></tr><tr><td>A046</td><td>C016</td><td>S05</td><td>SV03</td><td>2025-08-22T06:18:49.506Z</td><td>2</td><td>Yes</td><td>15</td></tr><tr><td>A047</td><td>C020</td><td>S01</td><td>SV08</td><td>2025-09-03T05:18:49.506Z</td><td>3</td><td>Yes</td><td>13</td></tr><tr><td>A048</td><td>C006</td><td>S07</td><td>SV03</td><td>2025-09-07T23:18:49.506Z</td><td>1</td><td>Yes</td><td>8</td></tr><tr><td>A049</td><td>C010</td><td>S01</td><td>SV09</td><td>2025-08-11T04:18:49.506Z</td><td>4</td><td>Yes</td><td>3</td></tr><tr><td>A050</td><td>C012</td><td>S03</td><td>SV05</td><td>2025-04-13T00:18:49.506Z</td><td>3</td><td>Yes</td><td>3</td></tr><tr><td>A051</td><td>C014</td><td>S08</td><td>SV05</td><td>2025-07-11T05:18:49.506Z</td><td>5</td><td>No</td><td>12</td></tr><tr><td>A052</td><td>C018</td><td>S01</td><td>SV03</td><td>2025-03-29T21:18:49.506Z</td><td>5</td><td>No</td><td>5</td></tr><tr><td>A053</td><td>C009</td><td>S08</td><td>SV03</td><td>2025-08-20T08:18:49.506Z</td><td>3</td><td>Yes</td><td>5</td></tr><tr><td>A054</td><td>C003</td><td>S03</td><td>SV03</td><td>2025-05-03T21:18:49.506Z</td><td>1</td><td>Yes</td><td>6</td></tr><tr><td>A055</td><td>C004</td><td>S04</td><td>SV10</td><td>2025-05-07T06:18:49.506Z</td><td>2</td><td>Yes</td><td>15</td></tr></tbody></table></div>"
      ]
     },
     "metadata": {
      "application/vnd.databricks.v1+output": {
       "addedWidgets": {},
       "aggData": [],
       "aggError": "",
       "aggOverflow": false,
       "aggSchema": [],
       "aggSeriesLimitReached": false,
       "aggType": "",
       "arguments": {},
       "columnCustomDisplayInfos": {},
       "data": [
        [
         "A001",
         "C016",
         "S03",
         "SV09",
         "2025-07-14T21:18:49.506Z",
         3,
         "No",
         3
        ],
        [
         "A002",
         "C015",
         "S01",
         "SV03",
         "2025-05-06T23:18:49.506Z",
         4,
         "No",
         3
        ],
        [
         "A003",
         "C016",
         "S06",
         "SV04",
         "2025-07-01T04:18:49.506Z",
         3,
         "No",
         4
        ],
        [
         "A004",
         "C007",
         "S04",
         "SV09",
         "2025-08-09T03:18:49.506Z",
         2,
         "No",
         7
        ],
        [
         "A005",
         "C004",
         "S05",
         "SV06",
         "2025-05-02T07:18:49.506Z",
         2,
         "No",
         15
        ],
        [
         "A006",
         "C016",
         "S01",
         "SV03",
         "2025-04-24T02:18:49.506Z",
         5,
         "Yes",
         14
        ],
        [
         "A007",
         "C006",
         "S08",
         "SV08",
         "2025-08-13T21:18:49.506Z",
         2,
         "Yes",
         4
        ],
        [
         "A008",
         "C018",
         "S03",
         "SV06",
         "2025-08-19T08:18:49.506Z",
         4,
         "Yes",
         10
        ],
        [
         "A009",
         "C019",
         "S04",
         "SV02",
         "2025-06-07T03:18:49.506Z",
         5,
         "No",
         12
        ],
        [
         "A010",
         "C010",
         "S08",
         "SV01",
         "2025-08-14T07:18:49.506Z",
         3,
         "No",
         15
        ],
        [
         "A011",
         "C009",
         "S03",
         "SV04",
         "2025-04-04T22:18:49.506Z",
         2,
         "No",
         10
        ],
        [
         "A012",
         "C012",
         "S02",
         "SV05",
         "2025-04-24T21:18:49.506Z",
         3,
         "Yes",
         14
        ],
        [
         "A013",
         "C004",
         "S08",
         "SV08",
         "2025-06-15T08:18:49.506Z",
         4,
         "No",
         1
        ],
        [
         "A014",
         "C019",
         "S03",
         "SV01",
         "2025-09-02T01:18:49.506Z",
         2,
         "Yes",
         10
        ],
        [
         "A015",
         "C015",
         "S02",
         "SV02",
         "2025-06-18T06:18:49.506Z",
         5,
         "No",
         12
        ],
        [
         "A016",
         "C005",
         "S06",
         "SV10",
         "2025-04-04T05:18:49.506Z",
         3,
         "No",
         11
        ],
        [
         "A017",
         "C019",
         "S08",
         "SV04",
         "2025-09-13T00:18:49.506Z",
         4,
         "Yes",
         11
        ],
        [
         "A018",
         "C001",
         "S05",
         "SV01",
         "2025-07-23T03:18:49.506Z",
         5,
         "No",
         8
        ],
        [
         "A019",
         "C009",
         "S02",
         "SV05",
         "2025-05-24T05:18:49.506Z",
         3,
         "Yes",
         13
        ],
        [
         "A020",
         "C015",
         "S07",
         "SV03",
         "2025-08-23T01:18:49.506Z",
         5,
         "Yes",
         13
        ],
        [
         "A021",
         "C001",
         "S05",
         "SV10",
         "2025-04-16T02:18:49.506Z",
         5,
         "No",
         12
        ],
        [
         "A022",
         "C007",
         "S05",
         "SV08",
         "2025-07-28T08:18:49.506Z",
         4,
         "Yes",
         13
        ],
        [
         "A023",
         "C011",
         "S06",
         "SV03",
         "2025-09-17T23:18:49.506Z",
         1,
         "Yes",
         6
        ],
        [
         "A024",
         "C015",
         "S03",
         "SV02",
         "2025-04-29T06:18:49.506Z",
         3,
         "No",
         2
        ],
        [
         "A025",
         "C006",
         "S03",
         "SV04",
         "2025-07-21T05:18:49.506Z",
         1,
         "Yes",
         12
        ],
        [
         "A026",
         "C001",
         "S04",
         "SV03",
         "2025-04-29T03:18:49.506Z",
         4,
         "Yes",
         11
        ],
        [
         "A027",
         "C014",
         "S01",
         "SV07",
         "2025-04-30T03:18:49.506Z",
         1,
         "No",
         15
        ],
        [
         "A028",
         "C005",
         "S04",
         "SV04",
         "2025-08-07T23:18:49.506Z",
         5,
         "Yes",
         10
        ],
        [
         "A029",
         "C008",
         "S01",
         "SV07",
         "2025-04-28T21:18:49.506Z",
         1,
         "Yes",
         3
        ],
        [
         "A030",
         "C015",
         "S07",
         "SV03",
         "2025-05-14T23:18:49.506Z",
         2,
         "No",
         3
        ],
        [
         "A031",
         "C001",
         "S01",
         "SV09",
         "2025-06-12T04:18:49.506Z",
         4,
         "Yes",
         8
        ],
        [
         "A032",
         "C017",
         "S02",
         "SV02",
         "2025-08-06T03:18:49.506Z",
         5,
         "Yes",
         11
        ],
        [
         "A033",
         "C008",
         "S01",
         "SV02",
         "2025-09-17T23:18:49.506Z",
         1,
         "Yes",
         6
        ],
        [
         "A034",
         "C018",
         "S08",
         "SV08",
         "2025-08-13T07:18:49.506Z",
         4,
         "Yes",
         12
        ],
        [
         "A035",
         "C003",
         "S08",
         "SV03",
         "2025-05-21T01:18:49.506Z",
         5,
         "Yes",
         5
        ],
        [
         "A036",
         "C015",
         "S02",
         "SV06",
         "2025-05-20T03:18:49.506Z",
         4,
         "Yes",
         13
        ],
        [
         "A037",
         "C005",
         "S01",
         "SV05",
         "2025-07-12T03:18:49.506Z",
         2,
         "Yes",
         8
        ],
        [
         "A038",
         "C013",
         "S04",
         "SV03",
         "2025-08-22T06:18:49.506Z",
         4,
         "Yes",
         5
        ],
        [
         "A039",
         "C006",
         "S05",
         "SV06",
         "2025-07-10T02:18:49.506Z",
         3,
         "No",
         7
        ],
        [
         "A040",
         "C010",
         "S03",
         "SV03",
         "2025-08-17T23:18:49.506Z",
         5,
         "Yes",
         10
        ],
        [
         "A041",
         "C002",
         "S01",
         "SV02",
         "2025-07-19T03:18:49.506Z",
         4,
         "Yes",
         15
        ],
        [
         "A042",
         "C004",
         "S02",
         "SV04",
         "2025-08-02T02:18:49.506Z",
         1,
         "Yes",
         1
        ],
        [
         "A043",
         "C012",
         "S02",
         "SV07",
         "2025-06-30T01:18:49.506Z",
         2,
         "No",
         11
        ],
        [
         "A044",
         "C004",
         "S05",
         "SV01",
         "2025-03-27T01:18:49.506Z",
         5,
         "No",
         1
        ],
        [
         "A045",
         "C019",
         "S06",
         "SV10",
         "2025-07-20T08:18:49.506Z",
         5,
         "Yes",
         12
        ],
        [
         "A046",
         "C016",
         "S05",
         "SV03",
         "2025-08-22T06:18:49.506Z",
         2,
         "Yes",
         15
        ],
        [
         "A047",
         "C020",
         "S01",
         "SV08",
         "2025-09-03T05:18:49.506Z",
         3,
         "Yes",
         13
        ],
        [
         "A048",
         "C006",
         "S07",
         "SV03",
         "2025-09-07T23:18:49.506Z",
         1,
         "Yes",
         8
        ],
        [
         "A049",
         "C010",
         "S01",
         "SV09",
         "2025-08-11T04:18:49.506Z",
         4,
         "Yes",
         3
        ],
        [
         "A050",
         "C012",
         "S03",
         "SV05",
         "2025-04-13T00:18:49.506Z",
         3,
         "Yes",
         3
        ],
        [
         "A051",
         "C014",
         "S08",
         "SV05",
         "2025-07-11T05:18:49.506Z",
         5,
         "No",
         12
        ],
        [
         "A052",
         "C018",
         "S01",
         "SV03",
         "2025-03-29T21:18:49.506Z",
         5,
         "No",
         5
        ],
        [
         "A053",
         "C009",
         "S08",
         "SV03",
         "2025-08-20T08:18:49.506Z",
         3,
         "Yes",
         5
        ],
        [
         "A054",
         "C003",
         "S03",
         "SV03",
         "2025-05-03T21:18:49.506Z",
         1,
         "Yes",
         6
        ],
        [
         "A055",
         "C004",
         "S04",
         "SV10",
         "2025-05-07T06:18:49.506Z",
         2,
         "Yes",
         15
        ]
       ],
       "datasetInfos": [],
       "dbfsResultPath": null,
       "isJsonSchema": true,
       "metadata": {},
       "overflow": false,
       "plotOptions": {
        "customPlotOptions": {},
        "displayType": "table",
        "pivotAggregation": null,
        "pivotColumns": null,
        "xColumns": null,
        "yColumns": null
       },
       "removedWidgets": [],
       "schema": [
        {
         "metadata": "{}",
         "name": "Appointment_ID",
         "type": "\"string\""
        },
        {
         "metadata": "{}",
         "name": "Client_ID",
         "type": "\"string\""
        },
        {
         "metadata": "{}",
         "name": "Staff_ID",
         "type": "\"string\""
        },
        {
         "metadata": "{}",
         "name": "Service_ID",
         "type": "\"string\""
        },
        {
         "metadata": "{}",
         "name": "Appointment_DateTime",
         "type": "\"timestamp\""
        },
        {
         "metadata": "{}",
         "name": "Client_Rating",
         "type": "\"long\""
        },
        {
         "metadata": "{}",
         "name": "Rebook_Indicator",
         "type": "\"string\""
        },
        {
         "metadata": "{}",
         "name": "Client_Visit_Count",
         "type": "\"long\""
        }
       ],
       "type": "table"
      }
     },
     "output_type": "display_data"
    }
   ],
   "source": [
    "salon_spa = spark.read.table(\n",
    "    \"workspace.default.salon_spa_staff_performance_with_time\"\n",
    ")\n",
    "display(salon_spa)"
   ]
  },
  {
   "cell_type": "code",
   "execution_count": 0,
   "metadata": {
    "application/vnd.databricks.v1+cell": {
     "cellMetadata": {
      "byteLimit": 2048000,
      "rowLimit": 10000
     },
     "inputWidgets": {},
     "nuid": "a3daf440-4b73-4449-96fe-37ef2a50f368",
     "showTitle": false,
     "tableResultSettingsMap": {},
     "title": ""
    }
   },
   "outputs": [
    {
     "output_type": "display_data",
     "data": {
      "text/html": [
       "<style scoped>\n",
       "  .table-result-container {\n",
       "    max-height: 300px;\n",
       "    overflow: auto;\n",
       "  }\n",
       "  table, th, td {\n",
       "    border: 1px solid black;\n",
       "    border-collapse: collapse;\n",
       "  }\n",
       "  th, td {\n",
       "    padding: 5px;\n",
       "  }\n",
       "  th {\n",
       "    text-align: left;\n",
       "  }\n",
       "</style><div class='table-result-container'><table class='table-result'><thead style='background-color: white'><tr><th>Appointment_ID</th><th>Client_ID</th><th>Staff_ID</th><th>Service_ID</th><th>Appointment_DateTime</th><th>Client_Rating</th><th>Rebook_Indicator</th><th>Client_Visit_Count</th><th>DayOfWeek</th><th>Hour</th><th>DayName</th></tr></thead><tbody><tr><td>A001</td><td>C016</td><td>S03</td><td>SV09</td><td>2025-07-14T21:18:49.506Z</td><td>3</td><td>No</td><td>3</td><td>2</td><td>21</td><td>Monday</td></tr><tr><td>A002</td><td>C015</td><td>S01</td><td>SV03</td><td>2025-05-06T23:18:49.506Z</td><td>4</td><td>No</td><td>3</td><td>3</td><td>23</td><td>Tuesday</td></tr><tr><td>A003</td><td>C016</td><td>S06</td><td>SV04</td><td>2025-07-01T04:18:49.506Z</td><td>3</td><td>No</td><td>4</td><td>3</td><td>4</td><td>Tuesday</td></tr><tr><td>A004</td><td>C007</td><td>S04</td><td>SV09</td><td>2025-08-09T03:18:49.506Z</td><td>2</td><td>No</td><td>7</td><td>7</td><td>3</td><td>Saturday</td></tr><tr><td>A005</td><td>C004</td><td>S05</td><td>SV06</td><td>2025-05-02T07:18:49.506Z</td><td>2</td><td>No</td><td>15</td><td>6</td><td>7</td><td>Friday</td></tr><tr><td>A006</td><td>C016</td><td>S01</td><td>SV03</td><td>2025-04-24T02:18:49.506Z</td><td>5</td><td>Yes</td><td>14</td><td>5</td><td>2</td><td>Thursday</td></tr><tr><td>A007</td><td>C006</td><td>S08</td><td>SV08</td><td>2025-08-13T21:18:49.506Z</td><td>2</td><td>Yes</td><td>4</td><td>4</td><td>21</td><td>Wednesday</td></tr><tr><td>A008</td><td>C018</td><td>S03</td><td>SV06</td><td>2025-08-19T08:18:49.506Z</td><td>4</td><td>Yes</td><td>10</td><td>3</td><td>8</td><td>Tuesday</td></tr><tr><td>A009</td><td>C019</td><td>S04</td><td>SV02</td><td>2025-06-07T03:18:49.506Z</td><td>5</td><td>No</td><td>12</td><td>7</td><td>3</td><td>Saturday</td></tr><tr><td>A010</td><td>C010</td><td>S08</td><td>SV01</td><td>2025-08-14T07:18:49.506Z</td><td>3</td><td>No</td><td>15</td><td>5</td><td>7</td><td>Thursday</td></tr><tr><td>A011</td><td>C009</td><td>S03</td><td>SV04</td><td>2025-04-04T22:18:49.506Z</td><td>2</td><td>No</td><td>10</td><td>6</td><td>22</td><td>Friday</td></tr><tr><td>A012</td><td>C012</td><td>S02</td><td>SV05</td><td>2025-04-24T21:18:49.506Z</td><td>3</td><td>Yes</td><td>14</td><td>5</td><td>21</td><td>Thursday</td></tr><tr><td>A013</td><td>C004</td><td>S08</td><td>SV08</td><td>2025-06-15T08:18:49.506Z</td><td>4</td><td>No</td><td>1</td><td>1</td><td>8</td><td>Sunday</td></tr><tr><td>A014</td><td>C019</td><td>S03</td><td>SV01</td><td>2025-09-02T01:18:49.506Z</td><td>2</td><td>Yes</td><td>10</td><td>3</td><td>1</td><td>Tuesday</td></tr><tr><td>A015</td><td>C015</td><td>S02</td><td>SV02</td><td>2025-06-18T06:18:49.506Z</td><td>5</td><td>No</td><td>12</td><td>4</td><td>6</td><td>Wednesday</td></tr><tr><td>A016</td><td>C005</td><td>S06</td><td>SV10</td><td>2025-04-04T05:18:49.506Z</td><td>3</td><td>No</td><td>11</td><td>6</td><td>5</td><td>Friday</td></tr><tr><td>A017</td><td>C019</td><td>S08</td><td>SV04</td><td>2025-09-13T00:18:49.506Z</td><td>4</td><td>Yes</td><td>11</td><td>7</td><td>0</td><td>Saturday</td></tr><tr><td>A018</td><td>C001</td><td>S05</td><td>SV01</td><td>2025-07-23T03:18:49.506Z</td><td>5</td><td>No</td><td>8</td><td>4</td><td>3</td><td>Wednesday</td></tr><tr><td>A019</td><td>C009</td><td>S02</td><td>SV05</td><td>2025-05-24T05:18:49.506Z</td><td>3</td><td>Yes</td><td>13</td><td>7</td><td>5</td><td>Saturday</td></tr><tr><td>A020</td><td>C015</td><td>S07</td><td>SV03</td><td>2025-08-23T01:18:49.506Z</td><td>5</td><td>Yes</td><td>13</td><td>7</td><td>1</td><td>Saturday</td></tr><tr><td>A021</td><td>C001</td><td>S05</td><td>SV10</td><td>2025-04-16T02:18:49.506Z</td><td>5</td><td>No</td><td>12</td><td>4</td><td>2</td><td>Wednesday</td></tr><tr><td>A022</td><td>C007</td><td>S05</td><td>SV08</td><td>2025-07-28T08:18:49.506Z</td><td>4</td><td>Yes</td><td>13</td><td>2</td><td>8</td><td>Monday</td></tr><tr><td>A023</td><td>C011</td><td>S06</td><td>SV03</td><td>2025-09-17T23:18:49.506Z</td><td>1</td><td>Yes</td><td>6</td><td>4</td><td>23</td><td>Wednesday</td></tr><tr><td>A024</td><td>C015</td><td>S03</td><td>SV02</td><td>2025-04-29T06:18:49.506Z</td><td>3</td><td>No</td><td>2</td><td>3</td><td>6</td><td>Tuesday</td></tr><tr><td>A025</td><td>C006</td><td>S03</td><td>SV04</td><td>2025-07-21T05:18:49.506Z</td><td>1</td><td>Yes</td><td>12</td><td>2</td><td>5</td><td>Monday</td></tr><tr><td>A026</td><td>C001</td><td>S04</td><td>SV03</td><td>2025-04-29T03:18:49.506Z</td><td>4</td><td>Yes</td><td>11</td><td>3</td><td>3</td><td>Tuesday</td></tr><tr><td>A027</td><td>C014</td><td>S01</td><td>SV07</td><td>2025-04-30T03:18:49.506Z</td><td>1</td><td>No</td><td>15</td><td>4</td><td>3</td><td>Wednesday</td></tr><tr><td>A028</td><td>C005</td><td>S04</td><td>SV04</td><td>2025-08-07T23:18:49.506Z</td><td>5</td><td>Yes</td><td>10</td><td>5</td><td>23</td><td>Thursday</td></tr><tr><td>A029</td><td>C008</td><td>S01</td><td>SV07</td><td>2025-04-28T21:18:49.506Z</td><td>1</td><td>Yes</td><td>3</td><td>2</td><td>21</td><td>Monday</td></tr><tr><td>A030</td><td>C015</td><td>S07</td><td>SV03</td><td>2025-05-14T23:18:49.506Z</td><td>2</td><td>No</td><td>3</td><td>4</td><td>23</td><td>Wednesday</td></tr><tr><td>A031</td><td>C001</td><td>S01</td><td>SV09</td><td>2025-06-12T04:18:49.506Z</td><td>4</td><td>Yes</td><td>8</td><td>5</td><td>4</td><td>Thursday</td></tr><tr><td>A032</td><td>C017</td><td>S02</td><td>SV02</td><td>2025-08-06T03:18:49.506Z</td><td>5</td><td>Yes</td><td>11</td><td>4</td><td>3</td><td>Wednesday</td></tr><tr><td>A033</td><td>C008</td><td>S01</td><td>SV02</td><td>2025-09-17T23:18:49.506Z</td><td>1</td><td>Yes</td><td>6</td><td>4</td><td>23</td><td>Wednesday</td></tr><tr><td>A034</td><td>C018</td><td>S08</td><td>SV08</td><td>2025-08-13T07:18:49.506Z</td><td>4</td><td>Yes</td><td>12</td><td>4</td><td>7</td><td>Wednesday</td></tr><tr><td>A035</td><td>C003</td><td>S08</td><td>SV03</td><td>2025-05-21T01:18:49.506Z</td><td>5</td><td>Yes</td><td>5</td><td>4</td><td>1</td><td>Wednesday</td></tr><tr><td>A036</td><td>C015</td><td>S02</td><td>SV06</td><td>2025-05-20T03:18:49.506Z</td><td>4</td><td>Yes</td><td>13</td><td>3</td><td>3</td><td>Tuesday</td></tr><tr><td>A037</td><td>C005</td><td>S01</td><td>SV05</td><td>2025-07-12T03:18:49.506Z</td><td>2</td><td>Yes</td><td>8</td><td>7</td><td>3</td><td>Saturday</td></tr><tr><td>A038</td><td>C013</td><td>S04</td><td>SV03</td><td>2025-08-22T06:18:49.506Z</td><td>4</td><td>Yes</td><td>5</td><td>6</td><td>6</td><td>Friday</td></tr><tr><td>A039</td><td>C006</td><td>S05</td><td>SV06</td><td>2025-07-10T02:18:49.506Z</td><td>3</td><td>No</td><td>7</td><td>5</td><td>2</td><td>Thursday</td></tr><tr><td>A040</td><td>C010</td><td>S03</td><td>SV03</td><td>2025-08-17T23:18:49.506Z</td><td>5</td><td>Yes</td><td>10</td><td>1</td><td>23</td><td>Sunday</td></tr><tr><td>A041</td><td>C002</td><td>S01</td><td>SV02</td><td>2025-07-19T03:18:49.506Z</td><td>4</td><td>Yes</td><td>15</td><td>7</td><td>3</td><td>Saturday</td></tr><tr><td>A042</td><td>C004</td><td>S02</td><td>SV04</td><td>2025-08-02T02:18:49.506Z</td><td>1</td><td>Yes</td><td>1</td><td>7</td><td>2</td><td>Saturday</td></tr><tr><td>A043</td><td>C012</td><td>S02</td><td>SV07</td><td>2025-06-30T01:18:49.506Z</td><td>2</td><td>No</td><td>11</td><td>2</td><td>1</td><td>Monday</td></tr><tr><td>A044</td><td>C004</td><td>S05</td><td>SV01</td><td>2025-03-27T01:18:49.506Z</td><td>5</td><td>No</td><td>1</td><td>5</td><td>1</td><td>Thursday</td></tr><tr><td>A045</td><td>C019</td><td>S06</td><td>SV10</td><td>2025-07-20T08:18:49.506Z</td><td>5</td><td>Yes</td><td>12</td><td>1</td><td>8</td><td>Sunday</td></tr><tr><td>A046</td><td>C016</td><td>S05</td><td>SV03</td><td>2025-08-22T06:18:49.506Z</td><td>2</td><td>Yes</td><td>15</td><td>6</td><td>6</td><td>Friday</td></tr><tr><td>A047</td><td>C020</td><td>S01</td><td>SV08</td><td>2025-09-03T05:18:49.506Z</td><td>3</td><td>Yes</td><td>13</td><td>4</td><td>5</td><td>Wednesday</td></tr><tr><td>A048</td><td>C006</td><td>S07</td><td>SV03</td><td>2025-09-07T23:18:49.506Z</td><td>1</td><td>Yes</td><td>8</td><td>1</td><td>23</td><td>Sunday</td></tr><tr><td>A049</td><td>C010</td><td>S01</td><td>SV09</td><td>2025-08-11T04:18:49.506Z</td><td>4</td><td>Yes</td><td>3</td><td>2</td><td>4</td><td>Monday</td></tr><tr><td>A050</td><td>C012</td><td>S03</td><td>SV05</td><td>2025-04-13T00:18:49.506Z</td><td>3</td><td>Yes</td><td>3</td><td>1</td><td>0</td><td>Sunday</td></tr><tr><td>A051</td><td>C014</td><td>S08</td><td>SV05</td><td>2025-07-11T05:18:49.506Z</td><td>5</td><td>No</td><td>12</td><td>6</td><td>5</td><td>Friday</td></tr><tr><td>A052</td><td>C018</td><td>S01</td><td>SV03</td><td>2025-03-29T21:18:49.506Z</td><td>5</td><td>No</td><td>5</td><td>7</td><td>21</td><td>Saturday</td></tr><tr><td>A053</td><td>C009</td><td>S08</td><td>SV03</td><td>2025-08-20T08:18:49.506Z</td><td>3</td><td>Yes</td><td>5</td><td>4</td><td>8</td><td>Wednesday</td></tr><tr><td>A054</td><td>C003</td><td>S03</td><td>SV03</td><td>2025-05-03T21:18:49.506Z</td><td>1</td><td>Yes</td><td>6</td><td>7</td><td>21</td><td>Saturday</td></tr><tr><td>A055</td><td>C004</td><td>S04</td><td>SV10</td><td>2025-05-07T06:18:49.506Z</td><td>2</td><td>Yes</td><td>15</td><td>4</td><td>6</td><td>Wednesday</td></tr></tbody></table></div>"
      ]
     },
     "metadata": {
      "application/vnd.databricks.v1+output": {
       "addedWidgets": {},
       "aggData": [],
       "aggError": "",
       "aggOverflow": false,
       "aggSchema": [],
       "aggSeriesLimitReached": false,
       "aggType": "",
       "arguments": {},
       "columnCustomDisplayInfos": {},
       "data": [
        [
         "A001",
         "C016",
         "S03",
         "SV09",
         "2025-07-14T21:18:49.506Z",
         3,
         "No",
         3,
         2,
         21,
         "Monday"
        ],
        [
         "A002",
         "C015",
         "S01",
         "SV03",
         "2025-05-06T23:18:49.506Z",
         4,
         "No",
         3,
         3,
         23,
         "Tuesday"
        ],
        [
         "A003",
         "C016",
         "S06",
         "SV04",
         "2025-07-01T04:18:49.506Z",
         3,
         "No",
         4,
         3,
         4,
         "Tuesday"
        ],
        [
         "A004",
         "C007",
         "S04",
         "SV09",
         "2025-08-09T03:18:49.506Z",
         2,
         "No",
         7,
         7,
         3,
         "Saturday"
        ],
        [
         "A005",
         "C004",
         "S05",
         "SV06",
         "2025-05-02T07:18:49.506Z",
         2,
         "No",
         15,
         6,
         7,
         "Friday"
        ],
        [
         "A006",
         "C016",
         "S01",
         "SV03",
         "2025-04-24T02:18:49.506Z",
         5,
         "Yes",
         14,
         5,
         2,
         "Thursday"
        ],
        [
         "A007",
         "C006",
         "S08",
         "SV08",
         "2025-08-13T21:18:49.506Z",
         2,
         "Yes",
         4,
         4,
         21,
         "Wednesday"
        ],
        [
         "A008",
         "C018",
         "S03",
         "SV06",
         "2025-08-19T08:18:49.506Z",
         4,
         "Yes",
         10,
         3,
         8,
         "Tuesday"
        ],
        [
         "A009",
         "C019",
         "S04",
         "SV02",
         "2025-06-07T03:18:49.506Z",
         5,
         "No",
         12,
         7,
         3,
         "Saturday"
        ],
        [
         "A010",
         "C010",
         "S08",
         "SV01",
         "2025-08-14T07:18:49.506Z",
         3,
         "No",
         15,
         5,
         7,
         "Thursday"
        ],
        [
         "A011",
         "C009",
         "S03",
         "SV04",
         "2025-04-04T22:18:49.506Z",
         2,
         "No",
         10,
         6,
         22,
         "Friday"
        ],
        [
         "A012",
         "C012",
         "S02",
         "SV05",
         "2025-04-24T21:18:49.506Z",
         3,
         "Yes",
         14,
         5,
         21,
         "Thursday"
        ],
        [
         "A013",
         "C004",
         "S08",
         "SV08",
         "2025-06-15T08:18:49.506Z",
         4,
         "No",
         1,
         1,
         8,
         "Sunday"
        ],
        [
         "A014",
         "C019",
         "S03",
         "SV01",
         "2025-09-02T01:18:49.506Z",
         2,
         "Yes",
         10,
         3,
         1,
         "Tuesday"
        ],
        [
         "A015",
         "C015",
         "S02",
         "SV02",
         "2025-06-18T06:18:49.506Z",
         5,
         "No",
         12,
         4,
         6,
         "Wednesday"
        ],
        [
         "A016",
         "C005",
         "S06",
         "SV10",
         "2025-04-04T05:18:49.506Z",
         3,
         "No",
         11,
         6,
         5,
         "Friday"
        ],
        [
         "A017",
         "C019",
         "S08",
         "SV04",
         "2025-09-13T00:18:49.506Z",
         4,
         "Yes",
         11,
         7,
         0,
         "Saturday"
        ],
        [
         "A018",
         "C001",
         "S05",
         "SV01",
         "2025-07-23T03:18:49.506Z",
         5,
         "No",
         8,
         4,
         3,
         "Wednesday"
        ],
        [
         "A019",
         "C009",
         "S02",
         "SV05",
         "2025-05-24T05:18:49.506Z",
         3,
         "Yes",
         13,
         7,
         5,
         "Saturday"
        ],
        [
         "A020",
         "C015",
         "S07",
         "SV03",
         "2025-08-23T01:18:49.506Z",
         5,
         "Yes",
         13,
         7,
         1,
         "Saturday"
        ],
        [
         "A021",
         "C001",
         "S05",
         "SV10",
         "2025-04-16T02:18:49.506Z",
         5,
         "No",
         12,
         4,
         2,
         "Wednesday"
        ],
        [
         "A022",
         "C007",
         "S05",
         "SV08",
         "2025-07-28T08:18:49.506Z",
         4,
         "Yes",
         13,
         2,
         8,
         "Monday"
        ],
        [
         "A023",
         "C011",
         "S06",
         "SV03",
         "2025-09-17T23:18:49.506Z",
         1,
         "Yes",
         6,
         4,
         23,
         "Wednesday"
        ],
        [
         "A024",
         "C015",
         "S03",
         "SV02",
         "2025-04-29T06:18:49.506Z",
         3,
         "No",
         2,
         3,
         6,
         "Tuesday"
        ],
        [
         "A025",
         "C006",
         "S03",
         "SV04",
         "2025-07-21T05:18:49.506Z",
         1,
         "Yes",
         12,
         2,
         5,
         "Monday"
        ],
        [
         "A026",
         "C001",
         "S04",
         "SV03",
         "2025-04-29T03:18:49.506Z",
         4,
         "Yes",
         11,
         3,
         3,
         "Tuesday"
        ],
        [
         "A027",
         "C014",
         "S01",
         "SV07",
         "2025-04-30T03:18:49.506Z",
         1,
         "No",
         15,
         4,
         3,
         "Wednesday"
        ],
        [
         "A028",
         "C005",
         "S04",
         "SV04",
         "2025-08-07T23:18:49.506Z",
         5,
         "Yes",
         10,
         5,
         23,
         "Thursday"
        ],
        [
         "A029",
         "C008",
         "S01",
         "SV07",
         "2025-04-28T21:18:49.506Z",
         1,
         "Yes",
         3,
         2,
         21,
         "Monday"
        ],
        [
         "A030",
         "C015",
         "S07",
         "SV03",
         "2025-05-14T23:18:49.506Z",
         2,
         "No",
         3,
         4,
         23,
         "Wednesday"
        ],
        [
         "A031",
         "C001",
         "S01",
         "SV09",
         "2025-06-12T04:18:49.506Z",
         4,
         "Yes",
         8,
         5,
         4,
         "Thursday"
        ],
        [
         "A032",
         "C017",
         "S02",
         "SV02",
         "2025-08-06T03:18:49.506Z",
         5,
         "Yes",
         11,
         4,
         3,
         "Wednesday"
        ],
        [
         "A033",
         "C008",
         "S01",
         "SV02",
         "2025-09-17T23:18:49.506Z",
         1,
         "Yes",
         6,
         4,
         23,
         "Wednesday"
        ],
        [
         "A034",
         "C018",
         "S08",
         "SV08",
         "2025-08-13T07:18:49.506Z",
         4,
         "Yes",
         12,
         4,
         7,
         "Wednesday"
        ],
        [
         "A035",
         "C003",
         "S08",
         "SV03",
         "2025-05-21T01:18:49.506Z",
         5,
         "Yes",
         5,
         4,
         1,
         "Wednesday"
        ],
        [
         "A036",
         "C015",
         "S02",
         "SV06",
         "2025-05-20T03:18:49.506Z",
         4,
         "Yes",
         13,
         3,
         3,
         "Tuesday"
        ],
        [
         "A037",
         "C005",
         "S01",
         "SV05",
         "2025-07-12T03:18:49.506Z",
         2,
         "Yes",
         8,
         7,
         3,
         "Saturday"
        ],
        [
         "A038",
         "C013",
         "S04",
         "SV03",
         "2025-08-22T06:18:49.506Z",
         4,
         "Yes",
         5,
         6,
         6,
         "Friday"
        ],
        [
         "A039",
         "C006",
         "S05",
         "SV06",
         "2025-07-10T02:18:49.506Z",
         3,
         "No",
         7,
         5,
         2,
         "Thursday"
        ],
        [
         "A040",
         "C010",
         "S03",
         "SV03",
         "2025-08-17T23:18:49.506Z",
         5,
         "Yes",
         10,
         1,
         23,
         "Sunday"
        ],
        [
         "A041",
         "C002",
         "S01",
         "SV02",
         "2025-07-19T03:18:49.506Z",
         4,
         "Yes",
         15,
         7,
         3,
         "Saturday"
        ],
        [
         "A042",
         "C004",
         "S02",
         "SV04",
         "2025-08-02T02:18:49.506Z",
         1,
         "Yes",
         1,
         7,
         2,
         "Saturday"
        ],
        [
         "A043",
         "C012",
         "S02",
         "SV07",
         "2025-06-30T01:18:49.506Z",
         2,
         "No",
         11,
         2,
         1,
         "Monday"
        ],
        [
         "A044",
         "C004",
         "S05",
         "SV01",
         "2025-03-27T01:18:49.506Z",
         5,
         "No",
         1,
         5,
         1,
         "Thursday"
        ],
        [
         "A045",
         "C019",
         "S06",
         "SV10",
         "2025-07-20T08:18:49.506Z",
         5,
         "Yes",
         12,
         1,
         8,
         "Sunday"
        ],
        [
         "A046",
         "C016",
         "S05",
         "SV03",
         "2025-08-22T06:18:49.506Z",
         2,
         "Yes",
         15,
         6,
         6,
         "Friday"
        ],
        [
         "A047",
         "C020",
         "S01",
         "SV08",
         "2025-09-03T05:18:49.506Z",
         3,
         "Yes",
         13,
         4,
         5,
         "Wednesday"
        ],
        [
         "A048",
         "C006",
         "S07",
         "SV03",
         "2025-09-07T23:18:49.506Z",
         1,
         "Yes",
         8,
         1,
         23,
         "Sunday"
        ],
        [
         "A049",
         "C010",
         "S01",
         "SV09",
         "2025-08-11T04:18:49.506Z",
         4,
         "Yes",
         3,
         2,
         4,
         "Monday"
        ],
        [
         "A050",
         "C012",
         "S03",
         "SV05",
         "2025-04-13T00:18:49.506Z",
         3,
         "Yes",
         3,
         1,
         0,
         "Sunday"
        ],
        [
         "A051",
         "C014",
         "S08",
         "SV05",
         "2025-07-11T05:18:49.506Z",
         5,
         "No",
         12,
         6,
         5,
         "Friday"
        ],
        [
         "A052",
         "C018",
         "S01",
         "SV03",
         "2025-03-29T21:18:49.506Z",
         5,
         "No",
         5,
         7,
         21,
         "Saturday"
        ],
        [
         "A053",
         "C009",
         "S08",
         "SV03",
         "2025-08-20T08:18:49.506Z",
         3,
         "Yes",
         5,
         4,
         8,
         "Wednesday"
        ],
        [
         "A054",
         "C003",
         "S03",
         "SV03",
         "2025-05-03T21:18:49.506Z",
         1,
         "Yes",
         6,
         7,
         21,
         "Saturday"
        ],
        [
         "A055",
         "C004",
         "S04",
         "SV10",
         "2025-05-07T06:18:49.506Z",
         2,
         "Yes",
         15,
         4,
         6,
         "Wednesday"
        ]
       ],
       "datasetInfos": [],
       "dbfsResultPath": null,
       "isJsonSchema": true,
       "metadata": {},
       "overflow": false,
       "plotOptions": {
        "customPlotOptions": {},
        "displayType": "table",
        "pivotAggregation": null,
        "pivotColumns": null,
        "xColumns": null,
        "yColumns": null
       },
       "removedWidgets": [],
       "schema": [
        {
         "metadata": "{}",
         "name": "Appointment_ID",
         "type": "\"string\""
        },
        {
         "metadata": "{}",
         "name": "Client_ID",
         "type": "\"string\""
        },
        {
         "metadata": "{}",
         "name": "Staff_ID",
         "type": "\"string\""
        },
        {
         "metadata": "{}",
         "name": "Service_ID",
         "type": "\"string\""
        },
        {
         "metadata": "{}",
         "name": "Appointment_DateTime",
         "type": "\"timestamp\""
        },
        {
         "metadata": "{}",
         "name": "Client_Rating",
         "type": "\"long\""
        },
        {
         "metadata": "{}",
         "name": "Rebook_Indicator",
         "type": "\"string\""
        },
        {
         "metadata": "{}",
         "name": "Client_Visit_Count",
         "type": "\"long\""
        },
        {
         "metadata": "{}",
         "name": "DayOfWeek",
         "type": "\"integer\""
        },
        {
         "metadata": "{}",
         "name": "Hour",
         "type": "\"integer\""
        },
        {
         "metadata": "{}",
         "name": "DayName",
         "type": "\"string\""
        }
       ],
       "type": "table"
      }
     },
     "output_type": "display_data"
    }
   ],
   "source": [
    "from pyspark.sql.functions import hour, dayofweek, date_format\n",
    "\n",
    "# Extract day of week (1 = Sunday, 7 = Saturday) and hour\n",
    "salon_spa = salon_spa.withColumn(\"DayOfWeek\", dayofweek(\"Appointment_DateTime\")) \\\n",
    "            .withColumn(\"Hour\", hour(\"Appointment_DateTime\")) \\\n",
    "            .withColumn(\"DayName\", date_format(\"Appointment_DateTime\", \"EEEE\"))\n",
    "\n",
    "display(salon_spa)\n"
   ]
  },
  {
   "cell_type": "markdown",
   "metadata": {
    "application/vnd.databricks.v1+cell": {
     "cellMetadata": {},
     "inputWidgets": {},
     "nuid": "4bcbb540-7094-4da5-9a5d-1f0ea8944444",
     "showTitle": false,
     "tableResultSettingsMap": {},
     "title": ""
    }
   },
   "source": [
    "1)Finding Peak Hours/: This will show which hours of the day have the highest number of bookings."
   ]
  },
  {
   "cell_type": "code",
   "execution_count": 0,
   "metadata": {
    "application/vnd.databricks.v1+cell": {
     "cellMetadata": {
      "byteLimit": 2048000,
      "rowLimit": 10000
     },
     "inputWidgets": {},
     "nuid": "3e891faa-0a6d-4020-8a18-c682689c4411",
     "showTitle": false,
     "tableResultSettingsMap": {},
     "title": ""
    }
   },
   "outputs": [
    {
     "output_type": "display_data",
     "data": {
      "text/html": [
       "<style scoped>\n",
       "  .table-result-container {\n",
       "    max-height: 300px;\n",
       "    overflow: auto;\n",
       "  }\n",
       "  table, th, td {\n",
       "    border: 1px solid black;\n",
       "    border-collapse: collapse;\n",
       "  }\n",
       "  th, td {\n",
       "    padding: 5px;\n",
       "  }\n",
       "  th {\n",
       "    text-align: left;\n",
       "  }\n",
       "</style><div class='table-result-container'><table class='table-result'><thead style='background-color: white'><tr><th>Hour</th><th>count</th></tr></thead><tbody><tr><td>3</td><td>9</td></tr><tr><td>23</td><td>7</td></tr><tr><td>21</td><td>6</td></tr><tr><td>8</td><td>5</td></tr><tr><td>5</td><td>5</td></tr><tr><td>1</td><td>5</td></tr><tr><td>6</td><td>5</td></tr><tr><td>2</td><td>4</td></tr><tr><td>4</td><td>3</td></tr><tr><td>7</td><td>3</td></tr><tr><td>0</td><td>2</td></tr><tr><td>22</td><td>1</td></tr></tbody></table></div>"
      ]
     },
     "metadata": {
      "application/vnd.databricks.v1+output": {
       "addedWidgets": {},
       "aggData": [],
       "aggError": "",
       "aggOverflow": false,
       "aggSchema": [],
       "aggSeriesLimitReached": false,
       "aggType": "",
       "arguments": {},
       "columnCustomDisplayInfos": {},
       "data": [
        [
         3,
         9
        ],
        [
         23,
         7
        ],
        [
         21,
         6
        ],
        [
         8,
         5
        ],
        [
         5,
         5
        ],
        [
         1,
         5
        ],
        [
         6,
         5
        ],
        [
         2,
         4
        ],
        [
         4,
         3
        ],
        [
         7,
         3
        ],
        [
         0,
         2
        ],
        [
         22,
         1
        ]
       ],
       "datasetInfos": [],
       "dbfsResultPath": null,
       "isJsonSchema": true,
       "metadata": {},
       "overflow": false,
       "plotOptions": {
        "customPlotOptions": {},
        "displayType": "table",
        "pivotAggregation": null,
        "pivotColumns": null,
        "xColumns": null,
        "yColumns": null
       },
       "removedWidgets": [],
       "schema": [
        {
         "metadata": "{}",
         "name": "Hour",
         "type": "\"integer\""
        },
        {
         "metadata": "{}",
         "name": "count",
         "type": "\"long\""
        }
       ],
       "type": "table"
      }
     },
     "output_type": "display_data"
    }
   ],
   "source": [
    "salon_spa = spark.read.table(\n",
    "    \"workspace.default.salon_spa_staff_performance_with_time\"\n",
    ")\n",
    "\n",
    "from pyspark.sql.functions import hour\n",
    "\n",
    "salon_spa_time = salon_spa.withColumn(\n",
    "    \"Hour\",\n",
    "    hour(\"Appointment_DateTime\")\n",
    ")\n",
    "\n",
    "peak_hours = salon_spa_time.groupBy(\"Hour\").count().orderBy(\"count\", ascending=False)\n",
    "display(peak_hours)"
   ]
  },
  {
   "cell_type": "markdown",
   "metadata": {
    "application/vnd.databricks.v1+cell": {
     "cellMetadata": {},
     "inputWidgets": {},
     "nuid": "9972749e-f50a-4586-9dbe-90f06b966a7b",
     "showTitle": false,
     "tableResultSettingsMap": {},
     "title": ""
    }
   },
   "source": [
    "How bookings vary across months or weeks"
   ]
  },
  {
   "cell_type": "markdown",
   "metadata": {
    "application/vnd.databricks.v1+cell": {
     "cellMetadata": {},
     "inputWidgets": {},
     "nuid": "53740721-0bab-4826-9e24-6a3993dc0999",
     "showTitle": false,
     "tableResultSettingsMap": {},
     "title": ""
    }
   },
   "source": [
    "2) Seasonal Demand Patterns"
   ]
  },
  {
   "cell_type": "code",
   "execution_count": 0,
   "metadata": {
    "application/vnd.databricks.v1+cell": {
     "cellMetadata": {
      "byteLimit": 2048000,
      "rowLimit": 10000
     },
     "inputWidgets": {},
     "nuid": "e24d7b72-e6d1-42b6-9f1b-6f77f2e0f97d",
     "showTitle": false,
     "tableResultSettingsMap": {},
     "title": ""
    }
   },
   "outputs": [
    {
     "output_type": "display_data",
     "data": {
      "text/html": [
       "<style scoped>\n",
       "  .table-result-container {\n",
       "    max-height: 300px;\n",
       "    overflow: auto;\n",
       "  }\n",
       "  table, th, td {\n",
       "    border: 1px solid black;\n",
       "    border-collapse: collapse;\n",
       "  }\n",
       "  th, td {\n",
       "    padding: 5px;\n",
       "  }\n",
       "  th {\n",
       "    text-align: left;\n",
       "  }\n",
       "</style><div class='table-result-container'><table class='table-result'><thead style='background-color: white'><tr><th>Appointment_ID</th><th>Client_ID</th><th>Staff_ID</th><th>Service_ID</th><th>Appointment_DateTime</th><th>Client_Rating</th><th>Rebook_Indicator</th><th>Client_Visit_Count</th><th>Month</th><th>MonthName</th><th>Week</th></tr></thead><tbody><tr><td>A001</td><td>C016</td><td>S03</td><td>SV09</td><td>2025-07-14T21:18:49.506Z</td><td>3</td><td>No</td><td>3</td><td>7</td><td>July</td><td>29</td></tr><tr><td>A002</td><td>C015</td><td>S01</td><td>SV03</td><td>2025-05-06T23:18:49.506Z</td><td>4</td><td>No</td><td>3</td><td>5</td><td>May</td><td>19</td></tr><tr><td>A003</td><td>C016</td><td>S06</td><td>SV04</td><td>2025-07-01T04:18:49.506Z</td><td>3</td><td>No</td><td>4</td><td>7</td><td>July</td><td>27</td></tr><tr><td>A004</td><td>C007</td><td>S04</td><td>SV09</td><td>2025-08-09T03:18:49.506Z</td><td>2</td><td>No</td><td>7</td><td>8</td><td>August</td><td>32</td></tr><tr><td>A005</td><td>C004</td><td>S05</td><td>SV06</td><td>2025-05-02T07:18:49.506Z</td><td>2</td><td>No</td><td>15</td><td>5</td><td>May</td><td>18</td></tr><tr><td>A006</td><td>C016</td><td>S01</td><td>SV03</td><td>2025-04-24T02:18:49.506Z</td><td>5</td><td>Yes</td><td>14</td><td>4</td><td>April</td><td>17</td></tr><tr><td>A007</td><td>C006</td><td>S08</td><td>SV08</td><td>2025-08-13T21:18:49.506Z</td><td>2</td><td>Yes</td><td>4</td><td>8</td><td>August</td><td>33</td></tr><tr><td>A008</td><td>C018</td><td>S03</td><td>SV06</td><td>2025-08-19T08:18:49.506Z</td><td>4</td><td>Yes</td><td>10</td><td>8</td><td>August</td><td>34</td></tr><tr><td>A009</td><td>C019</td><td>S04</td><td>SV02</td><td>2025-06-07T03:18:49.506Z</td><td>5</td><td>No</td><td>12</td><td>6</td><td>June</td><td>23</td></tr><tr><td>A010</td><td>C010</td><td>S08</td><td>SV01</td><td>2025-08-14T07:18:49.506Z</td><td>3</td><td>No</td><td>15</td><td>8</td><td>August</td><td>33</td></tr><tr><td>A011</td><td>C009</td><td>S03</td><td>SV04</td><td>2025-04-04T22:18:49.506Z</td><td>2</td><td>No</td><td>10</td><td>4</td><td>April</td><td>14</td></tr><tr><td>A012</td><td>C012</td><td>S02</td><td>SV05</td><td>2025-04-24T21:18:49.506Z</td><td>3</td><td>Yes</td><td>14</td><td>4</td><td>April</td><td>17</td></tr><tr><td>A013</td><td>C004</td><td>S08</td><td>SV08</td><td>2025-06-15T08:18:49.506Z</td><td>4</td><td>No</td><td>1</td><td>6</td><td>June</td><td>24</td></tr><tr><td>A014</td><td>C019</td><td>S03</td><td>SV01</td><td>2025-09-02T01:18:49.506Z</td><td>2</td><td>Yes</td><td>10</td><td>9</td><td>September</td><td>36</td></tr><tr><td>A015</td><td>C015</td><td>S02</td><td>SV02</td><td>2025-06-18T06:18:49.506Z</td><td>5</td><td>No</td><td>12</td><td>6</td><td>June</td><td>25</td></tr><tr><td>A016</td><td>C005</td><td>S06</td><td>SV10</td><td>2025-04-04T05:18:49.506Z</td><td>3</td><td>No</td><td>11</td><td>4</td><td>April</td><td>14</td></tr><tr><td>A017</td><td>C019</td><td>S08</td><td>SV04</td><td>2025-09-13T00:18:49.506Z</td><td>4</td><td>Yes</td><td>11</td><td>9</td><td>September</td><td>37</td></tr><tr><td>A018</td><td>C001</td><td>S05</td><td>SV01</td><td>2025-07-23T03:18:49.506Z</td><td>5</td><td>No</td><td>8</td><td>7</td><td>July</td><td>30</td></tr><tr><td>A019</td><td>C009</td><td>S02</td><td>SV05</td><td>2025-05-24T05:18:49.506Z</td><td>3</td><td>Yes</td><td>13</td><td>5</td><td>May</td><td>21</td></tr><tr><td>A020</td><td>C015</td><td>S07</td><td>SV03</td><td>2025-08-23T01:18:49.506Z</td><td>5</td><td>Yes</td><td>13</td><td>8</td><td>August</td><td>34</td></tr><tr><td>A021</td><td>C001</td><td>S05</td><td>SV10</td><td>2025-04-16T02:18:49.506Z</td><td>5</td><td>No</td><td>12</td><td>4</td><td>April</td><td>16</td></tr><tr><td>A022</td><td>C007</td><td>S05</td><td>SV08</td><td>2025-07-28T08:18:49.506Z</td><td>4</td><td>Yes</td><td>13</td><td>7</td><td>July</td><td>31</td></tr><tr><td>A023</td><td>C011</td><td>S06</td><td>SV03</td><td>2025-09-17T23:18:49.506Z</td><td>1</td><td>Yes</td><td>6</td><td>9</td><td>September</td><td>38</td></tr><tr><td>A024</td><td>C015</td><td>S03</td><td>SV02</td><td>2025-04-29T06:18:49.506Z</td><td>3</td><td>No</td><td>2</td><td>4</td><td>April</td><td>18</td></tr><tr><td>A025</td><td>C006</td><td>S03</td><td>SV04</td><td>2025-07-21T05:18:49.506Z</td><td>1</td><td>Yes</td><td>12</td><td>7</td><td>July</td><td>30</td></tr><tr><td>A026</td><td>C001</td><td>S04</td><td>SV03</td><td>2025-04-29T03:18:49.506Z</td><td>4</td><td>Yes</td><td>11</td><td>4</td><td>April</td><td>18</td></tr><tr><td>A027</td><td>C014</td><td>S01</td><td>SV07</td><td>2025-04-30T03:18:49.506Z</td><td>1</td><td>No</td><td>15</td><td>4</td><td>April</td><td>18</td></tr><tr><td>A028</td><td>C005</td><td>S04</td><td>SV04</td><td>2025-08-07T23:18:49.506Z</td><td>5</td><td>Yes</td><td>10</td><td>8</td><td>August</td><td>32</td></tr><tr><td>A029</td><td>C008</td><td>S01</td><td>SV07</td><td>2025-04-28T21:18:49.506Z</td><td>1</td><td>Yes</td><td>3</td><td>4</td><td>April</td><td>18</td></tr><tr><td>A030</td><td>C015</td><td>S07</td><td>SV03</td><td>2025-05-14T23:18:49.506Z</td><td>2</td><td>No</td><td>3</td><td>5</td><td>May</td><td>20</td></tr><tr><td>A031</td><td>C001</td><td>S01</td><td>SV09</td><td>2025-06-12T04:18:49.506Z</td><td>4</td><td>Yes</td><td>8</td><td>6</td><td>June</td><td>24</td></tr><tr><td>A032</td><td>C017</td><td>S02</td><td>SV02</td><td>2025-08-06T03:18:49.506Z</td><td>5</td><td>Yes</td><td>11</td><td>8</td><td>August</td><td>32</td></tr><tr><td>A033</td><td>C008</td><td>S01</td><td>SV02</td><td>2025-09-17T23:18:49.506Z</td><td>1</td><td>Yes</td><td>6</td><td>9</td><td>September</td><td>38</td></tr><tr><td>A034</td><td>C018</td><td>S08</td><td>SV08</td><td>2025-08-13T07:18:49.506Z</td><td>4</td><td>Yes</td><td>12</td><td>8</td><td>August</td><td>33</td></tr><tr><td>A035</td><td>C003</td><td>S08</td><td>SV03</td><td>2025-05-21T01:18:49.506Z</td><td>5</td><td>Yes</td><td>5</td><td>5</td><td>May</td><td>21</td></tr><tr><td>A036</td><td>C015</td><td>S02</td><td>SV06</td><td>2025-05-20T03:18:49.506Z</td><td>4</td><td>Yes</td><td>13</td><td>5</td><td>May</td><td>21</td></tr><tr><td>A037</td><td>C005</td><td>S01</td><td>SV05</td><td>2025-07-12T03:18:49.506Z</td><td>2</td><td>Yes</td><td>8</td><td>7</td><td>July</td><td>28</td></tr><tr><td>A038</td><td>C013</td><td>S04</td><td>SV03</td><td>2025-08-22T06:18:49.506Z</td><td>4</td><td>Yes</td><td>5</td><td>8</td><td>August</td><td>34</td></tr><tr><td>A039</td><td>C006</td><td>S05</td><td>SV06</td><td>2025-07-10T02:18:49.506Z</td><td>3</td><td>No</td><td>7</td><td>7</td><td>July</td><td>28</td></tr><tr><td>A040</td><td>C010</td><td>S03</td><td>SV03</td><td>2025-08-17T23:18:49.506Z</td><td>5</td><td>Yes</td><td>10</td><td>8</td><td>August</td><td>33</td></tr><tr><td>A041</td><td>C002</td><td>S01</td><td>SV02</td><td>2025-07-19T03:18:49.506Z</td><td>4</td><td>Yes</td><td>15</td><td>7</td><td>July</td><td>29</td></tr><tr><td>A042</td><td>C004</td><td>S02</td><td>SV04</td><td>2025-08-02T02:18:49.506Z</td><td>1</td><td>Yes</td><td>1</td><td>8</td><td>August</td><td>31</td></tr><tr><td>A043</td><td>C012</td><td>S02</td><td>SV07</td><td>2025-06-30T01:18:49.506Z</td><td>2</td><td>No</td><td>11</td><td>6</td><td>June</td><td>27</td></tr><tr><td>A044</td><td>C004</td><td>S05</td><td>SV01</td><td>2025-03-27T01:18:49.506Z</td><td>5</td><td>No</td><td>1</td><td>3</td><td>March</td><td>13</td></tr><tr><td>A045</td><td>C019</td><td>S06</td><td>SV10</td><td>2025-07-20T08:18:49.506Z</td><td>5</td><td>Yes</td><td>12</td><td>7</td><td>July</td><td>29</td></tr><tr><td>A046</td><td>C016</td><td>S05</td><td>SV03</td><td>2025-08-22T06:18:49.506Z</td><td>2</td><td>Yes</td><td>15</td><td>8</td><td>August</td><td>34</td></tr><tr><td>A047</td><td>C020</td><td>S01</td><td>SV08</td><td>2025-09-03T05:18:49.506Z</td><td>3</td><td>Yes</td><td>13</td><td>9</td><td>September</td><td>36</td></tr><tr><td>A048</td><td>C006</td><td>S07</td><td>SV03</td><td>2025-09-07T23:18:49.506Z</td><td>1</td><td>Yes</td><td>8</td><td>9</td><td>September</td><td>36</td></tr><tr><td>A049</td><td>C010</td><td>S01</td><td>SV09</td><td>2025-08-11T04:18:49.506Z</td><td>4</td><td>Yes</td><td>3</td><td>8</td><td>August</td><td>33</td></tr><tr><td>A050</td><td>C012</td><td>S03</td><td>SV05</td><td>2025-04-13T00:18:49.506Z</td><td>3</td><td>Yes</td><td>3</td><td>4</td><td>April</td><td>15</td></tr><tr><td>A051</td><td>C014</td><td>S08</td><td>SV05</td><td>2025-07-11T05:18:49.506Z</td><td>5</td><td>No</td><td>12</td><td>7</td><td>July</td><td>28</td></tr><tr><td>A052</td><td>C018</td><td>S01</td><td>SV03</td><td>2025-03-29T21:18:49.506Z</td><td>5</td><td>No</td><td>5</td><td>3</td><td>March</td><td>13</td></tr><tr><td>A053</td><td>C009</td><td>S08</td><td>SV03</td><td>2025-08-20T08:18:49.506Z</td><td>3</td><td>Yes</td><td>5</td><td>8</td><td>August</td><td>34</td></tr><tr><td>A054</td><td>C003</td><td>S03</td><td>SV03</td><td>2025-05-03T21:18:49.506Z</td><td>1</td><td>Yes</td><td>6</td><td>5</td><td>May</td><td>18</td></tr><tr><td>A055</td><td>C004</td><td>S04</td><td>SV10</td><td>2025-05-07T06:18:49.506Z</td><td>2</td><td>Yes</td><td>15</td><td>5</td><td>May</td><td>19</td></tr></tbody></table></div>"
      ]
     },
     "metadata": {
      "application/vnd.databricks.v1+output": {
       "addedWidgets": {},
       "aggData": [],
       "aggError": "",
       "aggOverflow": false,
       "aggSchema": [],
       "aggSeriesLimitReached": false,
       "aggType": "",
       "arguments": {},
       "columnCustomDisplayInfos": {},
       "data": [
        [
         "A001",
         "C016",
         "S03",
         "SV09",
         "2025-07-14T21:18:49.506Z",
         3,
         "No",
         3,
         7,
         "July",
         29
        ],
        [
         "A002",
         "C015",
         "S01",
         "SV03",
         "2025-05-06T23:18:49.506Z",
         4,
         "No",
         3,
         5,
         "May",
         19
        ],
        [
         "A003",
         "C016",
         "S06",
         "SV04",
         "2025-07-01T04:18:49.506Z",
         3,
         "No",
         4,
         7,
         "July",
         27
        ],
        [
         "A004",
         "C007",
         "S04",
         "SV09",
         "2025-08-09T03:18:49.506Z",
         2,
         "No",
         7,
         8,
         "August",
         32
        ],
        [
         "A005",
         "C004",
         "S05",
         "SV06",
         "2025-05-02T07:18:49.506Z",
         2,
         "No",
         15,
         5,
         "May",
         18
        ],
        [
         "A006",
         "C016",
         "S01",
         "SV03",
         "2025-04-24T02:18:49.506Z",
         5,
         "Yes",
         14,
         4,
         "April",
         17
        ],
        [
         "A007",
         "C006",
         "S08",
         "SV08",
         "2025-08-13T21:18:49.506Z",
         2,
         "Yes",
         4,
         8,
         "August",
         33
        ],
        [
         "A008",
         "C018",
         "S03",
         "SV06",
         "2025-08-19T08:18:49.506Z",
         4,
         "Yes",
         10,
         8,
         "August",
         34
        ],
        [
         "A009",
         "C019",
         "S04",
         "SV02",
         "2025-06-07T03:18:49.506Z",
         5,
         "No",
         12,
         6,
         "June",
         23
        ],
        [
         "A010",
         "C010",
         "S08",
         "SV01",
         "2025-08-14T07:18:49.506Z",
         3,
         "No",
         15,
         8,
         "August",
         33
        ],
        [
         "A011",
         "C009",
         "S03",
         "SV04",
         "2025-04-04T22:18:49.506Z",
         2,
         "No",
         10,
         4,
         "April",
         14
        ],
        [
         "A012",
         "C012",
         "S02",
         "SV05",
         "2025-04-24T21:18:49.506Z",
         3,
         "Yes",
         14,
         4,
         "April",
         17
        ],
        [
         "A013",
         "C004",
         "S08",
         "SV08",
         "2025-06-15T08:18:49.506Z",
         4,
         "No",
         1,
         6,
         "June",
         24
        ],
        [
         "A014",
         "C019",
         "S03",
         "SV01",
         "2025-09-02T01:18:49.506Z",
         2,
         "Yes",
         10,
         9,
         "September",
         36
        ],
        [
         "A015",
         "C015",
         "S02",
         "SV02",
         "2025-06-18T06:18:49.506Z",
         5,
         "No",
         12,
         6,
         "June",
         25
        ],
        [
         "A016",
         "C005",
         "S06",
         "SV10",
         "2025-04-04T05:18:49.506Z",
         3,
         "No",
         11,
         4,
         "April",
         14
        ],
        [
         "A017",
         "C019",
         "S08",
         "SV04",
         "2025-09-13T00:18:49.506Z",
         4,
         "Yes",
         11,
         9,
         "September",
         37
        ],
        [
         "A018",
         "C001",
         "S05",
         "SV01",
         "2025-07-23T03:18:49.506Z",
         5,
         "No",
         8,
         7,
         "July",
         30
        ],
        [
         "A019",
         "C009",
         "S02",
         "SV05",
         "2025-05-24T05:18:49.506Z",
         3,
         "Yes",
         13,
         5,
         "May",
         21
        ],
        [
         "A020",
         "C015",
         "S07",
         "SV03",
         "2025-08-23T01:18:49.506Z",
         5,
         "Yes",
         13,
         8,
         "August",
         34
        ],
        [
         "A021",
         "C001",
         "S05",
         "SV10",
         "2025-04-16T02:18:49.506Z",
         5,
         "No",
         12,
         4,
         "April",
         16
        ],
        [
         "A022",
         "C007",
         "S05",
         "SV08",
         "2025-07-28T08:18:49.506Z",
         4,
         "Yes",
         13,
         7,
         "July",
         31
        ],
        [
         "A023",
         "C011",
         "S06",
         "SV03",
         "2025-09-17T23:18:49.506Z",
         1,
         "Yes",
         6,
         9,
         "September",
         38
        ],
        [
         "A024",
         "C015",
         "S03",
         "SV02",
         "2025-04-29T06:18:49.506Z",
         3,
         "No",
         2,
         4,
         "April",
         18
        ],
        [
         "A025",
         "C006",
         "S03",
         "SV04",
         "2025-07-21T05:18:49.506Z",
         1,
         "Yes",
         12,
         7,
         "July",
         30
        ],
        [
         "A026",
         "C001",
         "S04",
         "SV03",
         "2025-04-29T03:18:49.506Z",
         4,
         "Yes",
         11,
         4,
         "April",
         18
        ],
        [
         "A027",
         "C014",
         "S01",
         "SV07",
         "2025-04-30T03:18:49.506Z",
         1,
         "No",
         15,
         4,
         "April",
         18
        ],
        [
         "A028",
         "C005",
         "S04",
         "SV04",
         "2025-08-07T23:18:49.506Z",
         5,
         "Yes",
         10,
         8,
         "August",
         32
        ],
        [
         "A029",
         "C008",
         "S01",
         "SV07",
         "2025-04-28T21:18:49.506Z",
         1,
         "Yes",
         3,
         4,
         "April",
         18
        ],
        [
         "A030",
         "C015",
         "S07",
         "SV03",
         "2025-05-14T23:18:49.506Z",
         2,
         "No",
         3,
         5,
         "May",
         20
        ],
        [
         "A031",
         "C001",
         "S01",
         "SV09",
         "2025-06-12T04:18:49.506Z",
         4,
         "Yes",
         8,
         6,
         "June",
         24
        ],
        [
         "A032",
         "C017",
         "S02",
         "SV02",
         "2025-08-06T03:18:49.506Z",
         5,
         "Yes",
         11,
         8,
         "August",
         32
        ],
        [
         "A033",
         "C008",
         "S01",
         "SV02",
         "2025-09-17T23:18:49.506Z",
         1,
         "Yes",
         6,
         9,
         "September",
         38
        ],
        [
         "A034",
         "C018",
         "S08",
         "SV08",
         "2025-08-13T07:18:49.506Z",
         4,
         "Yes",
         12,
         8,
         "August",
         33
        ],
        [
         "A035",
         "C003",
         "S08",
         "SV03",
         "2025-05-21T01:18:49.506Z",
         5,
         "Yes",
         5,
         5,
         "May",
         21
        ],
        [
         "A036",
         "C015",
         "S02",
         "SV06",
         "2025-05-20T03:18:49.506Z",
         4,
         "Yes",
         13,
         5,
         "May",
         21
        ],
        [
         "A037",
         "C005",
         "S01",
         "SV05",
         "2025-07-12T03:18:49.506Z",
         2,
         "Yes",
         8,
         7,
         "July",
         28
        ],
        [
         "A038",
         "C013",
         "S04",
         "SV03",
         "2025-08-22T06:18:49.506Z",
         4,
         "Yes",
         5,
         8,
         "August",
         34
        ],
        [
         "A039",
         "C006",
         "S05",
         "SV06",
         "2025-07-10T02:18:49.506Z",
         3,
         "No",
         7,
         7,
         "July",
         28
        ],
        [
         "A040",
         "C010",
         "S03",
         "SV03",
         "2025-08-17T23:18:49.506Z",
         5,
         "Yes",
         10,
         8,
         "August",
         33
        ],
        [
         "A041",
         "C002",
         "S01",
         "SV02",
         "2025-07-19T03:18:49.506Z",
         4,
         "Yes",
         15,
         7,
         "July",
         29
        ],
        [
         "A042",
         "C004",
         "S02",
         "SV04",
         "2025-08-02T02:18:49.506Z",
         1,
         "Yes",
         1,
         8,
         "August",
         31
        ],
        [
         "A043",
         "C012",
         "S02",
         "SV07",
         "2025-06-30T01:18:49.506Z",
         2,
         "No",
         11,
         6,
         "June",
         27
        ],
        [
         "A044",
         "C004",
         "S05",
         "SV01",
         "2025-03-27T01:18:49.506Z",
         5,
         "No",
         1,
         3,
         "March",
         13
        ],
        [
         "A045",
         "C019",
         "S06",
         "SV10",
         "2025-07-20T08:18:49.506Z",
         5,
         "Yes",
         12,
         7,
         "July",
         29
        ],
        [
         "A046",
         "C016",
         "S05",
         "SV03",
         "2025-08-22T06:18:49.506Z",
         2,
         "Yes",
         15,
         8,
         "August",
         34
        ],
        [
         "A047",
         "C020",
         "S01",
         "SV08",
         "2025-09-03T05:18:49.506Z",
         3,
         "Yes",
         13,
         9,
         "September",
         36
        ],
        [
         "A048",
         "C006",
         "S07",
         "SV03",
         "2025-09-07T23:18:49.506Z",
         1,
         "Yes",
         8,
         9,
         "September",
         36
        ],
        [
         "A049",
         "C010",
         "S01",
         "SV09",
         "2025-08-11T04:18:49.506Z",
         4,
         "Yes",
         3,
         8,
         "August",
         33
        ],
        [
         "A050",
         "C012",
         "S03",
         "SV05",
         "2025-04-13T00:18:49.506Z",
         3,
         "Yes",
         3,
         4,
         "April",
         15
        ],
        [
         "A051",
         "C014",
         "S08",
         "SV05",
         "2025-07-11T05:18:49.506Z",
         5,
         "No",
         12,
         7,
         "July",
         28
        ],
        [
         "A052",
         "C018",
         "S01",
         "SV03",
         "2025-03-29T21:18:49.506Z",
         5,
         "No",
         5,
         3,
         "March",
         13
        ],
        [
         "A053",
         "C009",
         "S08",
         "SV03",
         "2025-08-20T08:18:49.506Z",
         3,
         "Yes",
         5,
         8,
         "August",
         34
        ],
        [
         "A054",
         "C003",
         "S03",
         "SV03",
         "2025-05-03T21:18:49.506Z",
         1,
         "Yes",
         6,
         5,
         "May",
         18
        ],
        [
         "A055",
         "C004",
         "S04",
         "SV10",
         "2025-05-07T06:18:49.506Z",
         2,
         "Yes",
         15,
         5,
         "May",
         19
        ]
       ],
       "datasetInfos": [],
       "dbfsResultPath": null,
       "isJsonSchema": true,
       "metadata": {},
       "overflow": false,
       "plotOptions": {
        "customPlotOptions": {},
        "displayType": "table",
        "pivotAggregation": null,
        "pivotColumns": null,
        "xColumns": null,
        "yColumns": null
       },
       "removedWidgets": [],
       "schema": [
        {
         "metadata": "{}",
         "name": "Appointment_ID",
         "type": "\"string\""
        },
        {
         "metadata": "{}",
         "name": "Client_ID",
         "type": "\"string\""
        },
        {
         "metadata": "{}",
         "name": "Staff_ID",
         "type": "\"string\""
        },
        {
         "metadata": "{}",
         "name": "Service_ID",
         "type": "\"string\""
        },
        {
         "metadata": "{}",
         "name": "Appointment_DateTime",
         "type": "\"timestamp\""
        },
        {
         "metadata": "{}",
         "name": "Client_Rating",
         "type": "\"long\""
        },
        {
         "metadata": "{}",
         "name": "Rebook_Indicator",
         "type": "\"string\""
        },
        {
         "metadata": "{}",
         "name": "Client_Visit_Count",
         "type": "\"long\""
        },
        {
         "metadata": "{}",
         "name": "Month",
         "type": "\"integer\""
        },
        {
         "metadata": "{}",
         "name": "MonthName",
         "type": "\"string\""
        },
        {
         "metadata": "{}",
         "name": "Week",
         "type": "\"integer\""
        }
       ],
       "type": "table"
      }
     },
     "output_type": "display_data"
    }
   ],
   "source": [
    "from pyspark.sql.functions import month, weekofyear, date_format\n",
    "\n",
    "salon_spa_season = salon_spa.withColumn(\"Month\", month(\"Appointment_DateTime\")) \\\n",
    "              .withColumn(\"MonthName\", date_format(\"Appointment_DateTime\", \"MMMM\")) \\\n",
    "              .withColumn(\"Week\", weekofyear(\"Appointment_DateTime\"))\n",
    "display(salon_spa_season)"
   ]
  },
  {
   "cell_type": "markdown",
   "metadata": {
    "application/vnd.databricks.v1+cell": {
     "cellMetadata": {},
     "inputWidgets": {},
     "nuid": "5ce37c45-c78e-4687-8534-dd41c0855b3c",
     "showTitle": false,
     "tableResultSettingsMap": {},
     "title": ""
    }
   },
   "source": [
    "Finding demand by Month - This shows how many appointments happen in each month, helps spot seasonal trends."
   ]
  },
  {
   "cell_type": "code",
   "execution_count": 0,
   "metadata": {
    "application/vnd.databricks.v1+cell": {
     "cellMetadata": {
      "byteLimit": 2048000,
      "rowLimit": 10000
     },
     "inputWidgets": {},
     "nuid": "cbf01e6d-40c0-4028-86e2-f339120f3462",
     "showTitle": false,
     "tableResultSettingsMap": {},
     "title": ""
    }
   },
   "outputs": [
    {
     "output_type": "display_data",
     "data": {
      "text/html": [
       "<style scoped>\n",
       "  .table-result-container {\n",
       "    max-height: 300px;\n",
       "    overflow: auto;\n",
       "  }\n",
       "  table, th, td {\n",
       "    border: 1px solid black;\n",
       "    border-collapse: collapse;\n",
       "  }\n",
       "  th, td {\n",
       "    padding: 5px;\n",
       "  }\n",
       "  th {\n",
       "    text-align: left;\n",
       "  }\n",
       "</style><div class='table-result-container'><table class='table-result'><thead style='background-color: white'><tr><th>MonthName</th><th>count</th></tr></thead><tbody><tr><td>April</td><td>10</td></tr><tr><td>August</td><td>14</td></tr><tr><td>July</td><td>10</td></tr><tr><td>June</td><td>5</td></tr><tr><td>March</td><td>2</td></tr><tr><td>May</td><td>8</td></tr><tr><td>September</td><td>6</td></tr></tbody></table></div>"
      ]
     },
     "metadata": {
      "application/vnd.databricks.v1+output": {
       "addedWidgets": {},
       "aggData": [],
       "aggError": "",
       "aggOverflow": false,
       "aggSchema": [],
       "aggSeriesLimitReached": false,
       "aggType": "",
       "arguments": {},
       "columnCustomDisplayInfos": {},
       "data": [
        [
         "April",
         10
        ],
        [
         "August",
         14
        ],
        [
         "July",
         10
        ],
        [
         "June",
         5
        ],
        [
         "March",
         2
        ],
        [
         "May",
         8
        ],
        [
         "September",
         6
        ]
       ],
       "datasetInfos": [],
       "dbfsResultPath": null,
       "isJsonSchema": true,
       "metadata": {},
       "overflow": false,
       "plotOptions": {
        "customPlotOptions": {},
        "displayType": "table",
        "pivotAggregation": null,
        "pivotColumns": null,
        "xColumns": null,
        "yColumns": null
       },
       "removedWidgets": [],
       "schema": [
        {
         "metadata": "{}",
         "name": "MonthName",
         "type": "\"string\""
        },
        {
         "metadata": "{}",
         "name": "count",
         "type": "\"long\""
        }
       ],
       "type": "table"
      }
     },
     "output_type": "display_data"
    }
   ],
   "source": [
    "monthly_demand = salon_spa_season.groupBy(\n",
    "    \"MonthName\"\n",
    ").count().orderBy(\n",
    "    \"MonthName\"\n",
    ")\n",
    "display(monthly_demand)"
   ]
  },
  {
   "cell_type": "markdown",
   "metadata": {
    "application/vnd.databricks.v1+cell": {
     "cellMetadata": {},
     "inputWidgets": {},
     "nuid": "ae140111-230c-4849-a46a-fc89c57e835c",
     "showTitle": false,
     "tableResultSettingsMap": {},
     "title": ""
    }
   },
   "source": [
    "Find Demand by Week - This shows week-by-week booking trends → useful for fine-grained seasonality."
   ]
  },
  {
   "cell_type": "code",
   "execution_count": 0,
   "metadata": {
    "application/vnd.databricks.v1+cell": {
     "cellMetadata": {
      "byteLimit": 2048000,
      "rowLimit": 10000
     },
     "inputWidgets": {},
     "nuid": "7b5ccf2f-f088-442a-8d18-4b2170ad5851",
     "showTitle": false,
     "tableResultSettingsMap": {},
     "title": ""
    }
   },
   "outputs": [
    {
     "output_type": "stream",
     "name": "stdout",
     "output_type": "stream",
     "text": [
      "+----+-----+\n|Week|count|\n+----+-----+\n|  13|    2|\n|  14|    2|\n|  15|    1|\n|  16|    1|\n|  17|    2|\n|  18|    6|\n|  19|    2|\n|  20|    1|\n|  21|    3|\n|  23|    1|\n|  24|    2|\n|  25|    1|\n|  27|    2|\n|  28|    3|\n|  29|    3|\n|  30|    2|\n|  31|    2|\n|  32|    3|\n|  33|    5|\n|  34|    5|\n+----+-----+\nonly showing top 20 rows\n"
     ]
    },
    {
     "output_type": "display_data",
     "data": {
      "text/html": [
       "<style scoped>\n",
       "  .table-result-container {\n",
       "    max-height: 300px;\n",
       "    overflow: auto;\n",
       "  }\n",
       "  table, th, td {\n",
       "    border: 1px solid black;\n",
       "    border-collapse: collapse;\n",
       "  }\n",
       "  th, td {\n",
       "    padding: 5px;\n",
       "  }\n",
       "  th {\n",
       "    text-align: left;\n",
       "  }\n",
       "</style><div class='table-result-container'><table class='table-result'><thead style='background-color: white'><tr><th>Appointment_ID</th><th>Client_ID</th><th>Staff_ID</th><th>Service_ID</th><th>Appointment_DateTime</th><th>Client_Rating</th><th>Rebook_Indicator</th><th>Client_Visit_Count</th><th>Month</th><th>MonthName</th><th>Week</th></tr></thead><tbody><tr><td>A001</td><td>C016</td><td>S03</td><td>SV09</td><td>2025-07-14T21:18:49.506Z</td><td>3</td><td>No</td><td>3</td><td>7</td><td>July</td><td>29</td></tr><tr><td>A002</td><td>C015</td><td>S01</td><td>SV03</td><td>2025-05-06T23:18:49.506Z</td><td>4</td><td>No</td><td>3</td><td>5</td><td>May</td><td>19</td></tr><tr><td>A003</td><td>C016</td><td>S06</td><td>SV04</td><td>2025-07-01T04:18:49.506Z</td><td>3</td><td>No</td><td>4</td><td>7</td><td>July</td><td>27</td></tr><tr><td>A004</td><td>C007</td><td>S04</td><td>SV09</td><td>2025-08-09T03:18:49.506Z</td><td>2</td><td>No</td><td>7</td><td>8</td><td>August</td><td>32</td></tr><tr><td>A005</td><td>C004</td><td>S05</td><td>SV06</td><td>2025-05-02T07:18:49.506Z</td><td>2</td><td>No</td><td>15</td><td>5</td><td>May</td><td>18</td></tr><tr><td>A006</td><td>C016</td><td>S01</td><td>SV03</td><td>2025-04-24T02:18:49.506Z</td><td>5</td><td>Yes</td><td>14</td><td>4</td><td>April</td><td>17</td></tr><tr><td>A007</td><td>C006</td><td>S08</td><td>SV08</td><td>2025-08-13T21:18:49.506Z</td><td>2</td><td>Yes</td><td>4</td><td>8</td><td>August</td><td>33</td></tr><tr><td>A008</td><td>C018</td><td>S03</td><td>SV06</td><td>2025-08-19T08:18:49.506Z</td><td>4</td><td>Yes</td><td>10</td><td>8</td><td>August</td><td>34</td></tr><tr><td>A009</td><td>C019</td><td>S04</td><td>SV02</td><td>2025-06-07T03:18:49.506Z</td><td>5</td><td>No</td><td>12</td><td>6</td><td>June</td><td>23</td></tr><tr><td>A010</td><td>C010</td><td>S08</td><td>SV01</td><td>2025-08-14T07:18:49.506Z</td><td>3</td><td>No</td><td>15</td><td>8</td><td>August</td><td>33</td></tr><tr><td>A011</td><td>C009</td><td>S03</td><td>SV04</td><td>2025-04-04T22:18:49.506Z</td><td>2</td><td>No</td><td>10</td><td>4</td><td>April</td><td>14</td></tr><tr><td>A012</td><td>C012</td><td>S02</td><td>SV05</td><td>2025-04-24T21:18:49.506Z</td><td>3</td><td>Yes</td><td>14</td><td>4</td><td>April</td><td>17</td></tr><tr><td>A013</td><td>C004</td><td>S08</td><td>SV08</td><td>2025-06-15T08:18:49.506Z</td><td>4</td><td>No</td><td>1</td><td>6</td><td>June</td><td>24</td></tr><tr><td>A014</td><td>C019</td><td>S03</td><td>SV01</td><td>2025-09-02T01:18:49.506Z</td><td>2</td><td>Yes</td><td>10</td><td>9</td><td>September</td><td>36</td></tr><tr><td>A015</td><td>C015</td><td>S02</td><td>SV02</td><td>2025-06-18T06:18:49.506Z</td><td>5</td><td>No</td><td>12</td><td>6</td><td>June</td><td>25</td></tr><tr><td>A016</td><td>C005</td><td>S06</td><td>SV10</td><td>2025-04-04T05:18:49.506Z</td><td>3</td><td>No</td><td>11</td><td>4</td><td>April</td><td>14</td></tr><tr><td>A017</td><td>C019</td><td>S08</td><td>SV04</td><td>2025-09-13T00:18:49.506Z</td><td>4</td><td>Yes</td><td>11</td><td>9</td><td>September</td><td>37</td></tr><tr><td>A018</td><td>C001</td><td>S05</td><td>SV01</td><td>2025-07-23T03:18:49.506Z</td><td>5</td><td>No</td><td>8</td><td>7</td><td>July</td><td>30</td></tr><tr><td>A019</td><td>C009</td><td>S02</td><td>SV05</td><td>2025-05-24T05:18:49.506Z</td><td>3</td><td>Yes</td><td>13</td><td>5</td><td>May</td><td>21</td></tr><tr><td>A020</td><td>C015</td><td>S07</td><td>SV03</td><td>2025-08-23T01:18:49.506Z</td><td>5</td><td>Yes</td><td>13</td><td>8</td><td>August</td><td>34</td></tr><tr><td>A021</td><td>C001</td><td>S05</td><td>SV10</td><td>2025-04-16T02:18:49.506Z</td><td>5</td><td>No</td><td>12</td><td>4</td><td>April</td><td>16</td></tr><tr><td>A022</td><td>C007</td><td>S05</td><td>SV08</td><td>2025-07-28T08:18:49.506Z</td><td>4</td><td>Yes</td><td>13</td><td>7</td><td>July</td><td>31</td></tr><tr><td>A023</td><td>C011</td><td>S06</td><td>SV03</td><td>2025-09-17T23:18:49.506Z</td><td>1</td><td>Yes</td><td>6</td><td>9</td><td>September</td><td>38</td></tr><tr><td>A024</td><td>C015</td><td>S03</td><td>SV02</td><td>2025-04-29T06:18:49.506Z</td><td>3</td><td>No</td><td>2</td><td>4</td><td>April</td><td>18</td></tr><tr><td>A025</td><td>C006</td><td>S03</td><td>SV04</td><td>2025-07-21T05:18:49.506Z</td><td>1</td><td>Yes</td><td>12</td><td>7</td><td>July</td><td>30</td></tr><tr><td>A026</td><td>C001</td><td>S04</td><td>SV03</td><td>2025-04-29T03:18:49.506Z</td><td>4</td><td>Yes</td><td>11</td><td>4</td><td>April</td><td>18</td></tr><tr><td>A027</td><td>C014</td><td>S01</td><td>SV07</td><td>2025-04-30T03:18:49.506Z</td><td>1</td><td>No</td><td>15</td><td>4</td><td>April</td><td>18</td></tr><tr><td>A028</td><td>C005</td><td>S04</td><td>SV04</td><td>2025-08-07T23:18:49.506Z</td><td>5</td><td>Yes</td><td>10</td><td>8</td><td>August</td><td>32</td></tr><tr><td>A029</td><td>C008</td><td>S01</td><td>SV07</td><td>2025-04-28T21:18:49.506Z</td><td>1</td><td>Yes</td><td>3</td><td>4</td><td>April</td><td>18</td></tr><tr><td>A030</td><td>C015</td><td>S07</td><td>SV03</td><td>2025-05-14T23:18:49.506Z</td><td>2</td><td>No</td><td>3</td><td>5</td><td>May</td><td>20</td></tr><tr><td>A031</td><td>C001</td><td>S01</td><td>SV09</td><td>2025-06-12T04:18:49.506Z</td><td>4</td><td>Yes</td><td>8</td><td>6</td><td>June</td><td>24</td></tr><tr><td>A032</td><td>C017</td><td>S02</td><td>SV02</td><td>2025-08-06T03:18:49.506Z</td><td>5</td><td>Yes</td><td>11</td><td>8</td><td>August</td><td>32</td></tr><tr><td>A033</td><td>C008</td><td>S01</td><td>SV02</td><td>2025-09-17T23:18:49.506Z</td><td>1</td><td>Yes</td><td>6</td><td>9</td><td>September</td><td>38</td></tr><tr><td>A034</td><td>C018</td><td>S08</td><td>SV08</td><td>2025-08-13T07:18:49.506Z</td><td>4</td><td>Yes</td><td>12</td><td>8</td><td>August</td><td>33</td></tr><tr><td>A035</td><td>C003</td><td>S08</td><td>SV03</td><td>2025-05-21T01:18:49.506Z</td><td>5</td><td>Yes</td><td>5</td><td>5</td><td>May</td><td>21</td></tr><tr><td>A036</td><td>C015</td><td>S02</td><td>SV06</td><td>2025-05-20T03:18:49.506Z</td><td>4</td><td>Yes</td><td>13</td><td>5</td><td>May</td><td>21</td></tr><tr><td>A037</td><td>C005</td><td>S01</td><td>SV05</td><td>2025-07-12T03:18:49.506Z</td><td>2</td><td>Yes</td><td>8</td><td>7</td><td>July</td><td>28</td></tr><tr><td>A038</td><td>C013</td><td>S04</td><td>SV03</td><td>2025-08-22T06:18:49.506Z</td><td>4</td><td>Yes</td><td>5</td><td>8</td><td>August</td><td>34</td></tr><tr><td>A039</td><td>C006</td><td>S05</td><td>SV06</td><td>2025-07-10T02:18:49.506Z</td><td>3</td><td>No</td><td>7</td><td>7</td><td>July</td><td>28</td></tr><tr><td>A040</td><td>C010</td><td>S03</td><td>SV03</td><td>2025-08-17T23:18:49.506Z</td><td>5</td><td>Yes</td><td>10</td><td>8</td><td>August</td><td>33</td></tr><tr><td>A041</td><td>C002</td><td>S01</td><td>SV02</td><td>2025-07-19T03:18:49.506Z</td><td>4</td><td>Yes</td><td>15</td><td>7</td><td>July</td><td>29</td></tr><tr><td>A042</td><td>C004</td><td>S02</td><td>SV04</td><td>2025-08-02T02:18:49.506Z</td><td>1</td><td>Yes</td><td>1</td><td>8</td><td>August</td><td>31</td></tr><tr><td>A043</td><td>C012</td><td>S02</td><td>SV07</td><td>2025-06-30T01:18:49.506Z</td><td>2</td><td>No</td><td>11</td><td>6</td><td>June</td><td>27</td></tr><tr><td>A044</td><td>C004</td><td>S05</td><td>SV01</td><td>2025-03-27T01:18:49.506Z</td><td>5</td><td>No</td><td>1</td><td>3</td><td>March</td><td>13</td></tr><tr><td>A045</td><td>C019</td><td>S06</td><td>SV10</td><td>2025-07-20T08:18:49.506Z</td><td>5</td><td>Yes</td><td>12</td><td>7</td><td>July</td><td>29</td></tr><tr><td>A046</td><td>C016</td><td>S05</td><td>SV03</td><td>2025-08-22T06:18:49.506Z</td><td>2</td><td>Yes</td><td>15</td><td>8</td><td>August</td><td>34</td></tr><tr><td>A047</td><td>C020</td><td>S01</td><td>SV08</td><td>2025-09-03T05:18:49.506Z</td><td>3</td><td>Yes</td><td>13</td><td>9</td><td>September</td><td>36</td></tr><tr><td>A048</td><td>C006</td><td>S07</td><td>SV03</td><td>2025-09-07T23:18:49.506Z</td><td>1</td><td>Yes</td><td>8</td><td>9</td><td>September</td><td>36</td></tr><tr><td>A049</td><td>C010</td><td>S01</td><td>SV09</td><td>2025-08-11T04:18:49.506Z</td><td>4</td><td>Yes</td><td>3</td><td>8</td><td>August</td><td>33</td></tr><tr><td>A050</td><td>C012</td><td>S03</td><td>SV05</td><td>2025-04-13T00:18:49.506Z</td><td>3</td><td>Yes</td><td>3</td><td>4</td><td>April</td><td>15</td></tr><tr><td>A051</td><td>C014</td><td>S08</td><td>SV05</td><td>2025-07-11T05:18:49.506Z</td><td>5</td><td>No</td><td>12</td><td>7</td><td>July</td><td>28</td></tr><tr><td>A052</td><td>C018</td><td>S01</td><td>SV03</td><td>2025-03-29T21:18:49.506Z</td><td>5</td><td>No</td><td>5</td><td>3</td><td>March</td><td>13</td></tr><tr><td>A053</td><td>C009</td><td>S08</td><td>SV03</td><td>2025-08-20T08:18:49.506Z</td><td>3</td><td>Yes</td><td>5</td><td>8</td><td>August</td><td>34</td></tr><tr><td>A054</td><td>C003</td><td>S03</td><td>SV03</td><td>2025-05-03T21:18:49.506Z</td><td>1</td><td>Yes</td><td>6</td><td>5</td><td>May</td><td>18</td></tr><tr><td>A055</td><td>C004</td><td>S04</td><td>SV10</td><td>2025-05-07T06:18:49.506Z</td><td>2</td><td>Yes</td><td>15</td><td>5</td><td>May</td><td>19</td></tr></tbody></table></div>"
      ]
     },
     "metadata": {
      "application/vnd.databricks.v1+output": {
       "addedWidgets": {},
       "aggData": [],
       "aggError": "",
       "aggOverflow": false,
       "aggSchema": [],
       "aggSeriesLimitReached": false,
       "aggType": "",
       "arguments": {},
       "columnCustomDisplayInfos": {},
       "data": [
        [
         "A001",
         "C016",
         "S03",
         "SV09",
         "2025-07-14T21:18:49.506Z",
         3,
         "No",
         3,
         7,
         "July",
         29
        ],
        [
         "A002",
         "C015",
         "S01",
         "SV03",
         "2025-05-06T23:18:49.506Z",
         4,
         "No",
         3,
         5,
         "May",
         19
        ],
        [
         "A003",
         "C016",
         "S06",
         "SV04",
         "2025-07-01T04:18:49.506Z",
         3,
         "No",
         4,
         7,
         "July",
         27
        ],
        [
         "A004",
         "C007",
         "S04",
         "SV09",
         "2025-08-09T03:18:49.506Z",
         2,
         "No",
         7,
         8,
         "August",
         32
        ],
        [
         "A005",
         "C004",
         "S05",
         "SV06",
         "2025-05-02T07:18:49.506Z",
         2,
         "No",
         15,
         5,
         "May",
         18
        ],
        [
         "A006",
         "C016",
         "S01",
         "SV03",
         "2025-04-24T02:18:49.506Z",
         5,
         "Yes",
         14,
         4,
         "April",
         17
        ],
        [
         "A007",
         "C006",
         "S08",
         "SV08",
         "2025-08-13T21:18:49.506Z",
         2,
         "Yes",
         4,
         8,
         "August",
         33
        ],
        [
         "A008",
         "C018",
         "S03",
         "SV06",
         "2025-08-19T08:18:49.506Z",
         4,
         "Yes",
         10,
         8,
         "August",
         34
        ],
        [
         "A009",
         "C019",
         "S04",
         "SV02",
         "2025-06-07T03:18:49.506Z",
         5,
         "No",
         12,
         6,
         "June",
         23
        ],
        [
         "A010",
         "C010",
         "S08",
         "SV01",
         "2025-08-14T07:18:49.506Z",
         3,
         "No",
         15,
         8,
         "August",
         33
        ],
        [
         "A011",
         "C009",
         "S03",
         "SV04",
         "2025-04-04T22:18:49.506Z",
         2,
         "No",
         10,
         4,
         "April",
         14
        ],
        [
         "A012",
         "C012",
         "S02",
         "SV05",
         "2025-04-24T21:18:49.506Z",
         3,
         "Yes",
         14,
         4,
         "April",
         17
        ],
        [
         "A013",
         "C004",
         "S08",
         "SV08",
         "2025-06-15T08:18:49.506Z",
         4,
         "No",
         1,
         6,
         "June",
         24
        ],
        [
         "A014",
         "C019",
         "S03",
         "SV01",
         "2025-09-02T01:18:49.506Z",
         2,
         "Yes",
         10,
         9,
         "September",
         36
        ],
        [
         "A015",
         "C015",
         "S02",
         "SV02",
         "2025-06-18T06:18:49.506Z",
         5,
         "No",
         12,
         6,
         "June",
         25
        ],
        [
         "A016",
         "C005",
         "S06",
         "SV10",
         "2025-04-04T05:18:49.506Z",
         3,
         "No",
         11,
         4,
         "April",
         14
        ],
        [
         "A017",
         "C019",
         "S08",
         "SV04",
         "2025-09-13T00:18:49.506Z",
         4,
         "Yes",
         11,
         9,
         "September",
         37
        ],
        [
         "A018",
         "C001",
         "S05",
         "SV01",
         "2025-07-23T03:18:49.506Z",
         5,
         "No",
         8,
         7,
         "July",
         30
        ],
        [
         "A019",
         "C009",
         "S02",
         "SV05",
         "2025-05-24T05:18:49.506Z",
         3,
         "Yes",
         13,
         5,
         "May",
         21
        ],
        [
         "A020",
         "C015",
         "S07",
         "SV03",
         "2025-08-23T01:18:49.506Z",
         5,
         "Yes",
         13,
         8,
         "August",
         34
        ],
        [
         "A021",
         "C001",
         "S05",
         "SV10",
         "2025-04-16T02:18:49.506Z",
         5,
         "No",
         12,
         4,
         "April",
         16
        ],
        [
         "A022",
         "C007",
         "S05",
         "SV08",
         "2025-07-28T08:18:49.506Z",
         4,
         "Yes",
         13,
         7,
         "July",
         31
        ],
        [
         "A023",
         "C011",
         "S06",
         "SV03",
         "2025-09-17T23:18:49.506Z",
         1,
         "Yes",
         6,
         9,
         "September",
         38
        ],
        [
         "A024",
         "C015",
         "S03",
         "SV02",
         "2025-04-29T06:18:49.506Z",
         3,
         "No",
         2,
         4,
         "April",
         18
        ],
        [
         "A025",
         "C006",
         "S03",
         "SV04",
         "2025-07-21T05:18:49.506Z",
         1,
         "Yes",
         12,
         7,
         "July",
         30
        ],
        [
         "A026",
         "C001",
         "S04",
         "SV03",
         "2025-04-29T03:18:49.506Z",
         4,
         "Yes",
         11,
         4,
         "April",
         18
        ],
        [
         "A027",
         "C014",
         "S01",
         "SV07",
         "2025-04-30T03:18:49.506Z",
         1,
         "No",
         15,
         4,
         "April",
         18
        ],
        [
         "A028",
         "C005",
         "S04",
         "SV04",
         "2025-08-07T23:18:49.506Z",
         5,
         "Yes",
         10,
         8,
         "August",
         32
        ],
        [
         "A029",
         "C008",
         "S01",
         "SV07",
         "2025-04-28T21:18:49.506Z",
         1,
         "Yes",
         3,
         4,
         "April",
         18
        ],
        [
         "A030",
         "C015",
         "S07",
         "SV03",
         "2025-05-14T23:18:49.506Z",
         2,
         "No",
         3,
         5,
         "May",
         20
        ],
        [
         "A031",
         "C001",
         "S01",
         "SV09",
         "2025-06-12T04:18:49.506Z",
         4,
         "Yes",
         8,
         6,
         "June",
         24
        ],
        [
         "A032",
         "C017",
         "S02",
         "SV02",
         "2025-08-06T03:18:49.506Z",
         5,
         "Yes",
         11,
         8,
         "August",
         32
        ],
        [
         "A033",
         "C008",
         "S01",
         "SV02",
         "2025-09-17T23:18:49.506Z",
         1,
         "Yes",
         6,
         9,
         "September",
         38
        ],
        [
         "A034",
         "C018",
         "S08",
         "SV08",
         "2025-08-13T07:18:49.506Z",
         4,
         "Yes",
         12,
         8,
         "August",
         33
        ],
        [
         "A035",
         "C003",
         "S08",
         "SV03",
         "2025-05-21T01:18:49.506Z",
         5,
         "Yes",
         5,
         5,
         "May",
         21
        ],
        [
         "A036",
         "C015",
         "S02",
         "SV06",
         "2025-05-20T03:18:49.506Z",
         4,
         "Yes",
         13,
         5,
         "May",
         21
        ],
        [
         "A037",
         "C005",
         "S01",
         "SV05",
         "2025-07-12T03:18:49.506Z",
         2,
         "Yes",
         8,
         7,
         "July",
         28
        ],
        [
         "A038",
         "C013",
         "S04",
         "SV03",
         "2025-08-22T06:18:49.506Z",
         4,
         "Yes",
         5,
         8,
         "August",
         34
        ],
        [
         "A039",
         "C006",
         "S05",
         "SV06",
         "2025-07-10T02:18:49.506Z",
         3,
         "No",
         7,
         7,
         "July",
         28
        ],
        [
         "A040",
         "C010",
         "S03",
         "SV03",
         "2025-08-17T23:18:49.506Z",
         5,
         "Yes",
         10,
         8,
         "August",
         33
        ],
        [
         "A041",
         "C002",
         "S01",
         "SV02",
         "2025-07-19T03:18:49.506Z",
         4,
         "Yes",
         15,
         7,
         "July",
         29
        ],
        [
         "A042",
         "C004",
         "S02",
         "SV04",
         "2025-08-02T02:18:49.506Z",
         1,
         "Yes",
         1,
         8,
         "August",
         31
        ],
        [
         "A043",
         "C012",
         "S02",
         "SV07",
         "2025-06-30T01:18:49.506Z",
         2,
         "No",
         11,
         6,
         "June",
         27
        ],
        [
         "A044",
         "C004",
         "S05",
         "SV01",
         "2025-03-27T01:18:49.506Z",
         5,
         "No",
         1,
         3,
         "March",
         13
        ],
        [
         "A045",
         "C019",
         "S06",
         "SV10",
         "2025-07-20T08:18:49.506Z",
         5,
         "Yes",
         12,
         7,
         "July",
         29
        ],
        [
         "A046",
         "C016",
         "S05",
         "SV03",
         "2025-08-22T06:18:49.506Z",
         2,
         "Yes",
         15,
         8,
         "August",
         34
        ],
        [
         "A047",
         "C020",
         "S01",
         "SV08",
         "2025-09-03T05:18:49.506Z",
         3,
         "Yes",
         13,
         9,
         "September",
         36
        ],
        [
         "A048",
         "C006",
         "S07",
         "SV03",
         "2025-09-07T23:18:49.506Z",
         1,
         "Yes",
         8,
         9,
         "September",
         36
        ],
        [
         "A049",
         "C010",
         "S01",
         "SV09",
         "2025-08-11T04:18:49.506Z",
         4,
         "Yes",
         3,
         8,
         "August",
         33
        ],
        [
         "A050",
         "C012",
         "S03",
         "SV05",
         "2025-04-13T00:18:49.506Z",
         3,
         "Yes",
         3,
         4,
         "April",
         15
        ],
        [
         "A051",
         "C014",
         "S08",
         "SV05",
         "2025-07-11T05:18:49.506Z",
         5,
         "No",
         12,
         7,
         "July",
         28
        ],
        [
         "A052",
         "C018",
         "S01",
         "SV03",
         "2025-03-29T21:18:49.506Z",
         5,
         "No",
         5,
         3,
         "March",
         13
        ],
        [
         "A053",
         "C009",
         "S08",
         "SV03",
         "2025-08-20T08:18:49.506Z",
         3,
         "Yes",
         5,
         8,
         "August",
         34
        ],
        [
         "A054",
         "C003",
         "S03",
         "SV03",
         "2025-05-03T21:18:49.506Z",
         1,
         "Yes",
         6,
         5,
         "May",
         18
        ],
        [
         "A055",
         "C004",
         "S04",
         "SV10",
         "2025-05-07T06:18:49.506Z",
         2,
         "Yes",
         15,
         5,
         "May",
         19
        ]
       ],
       "datasetInfos": [],
       "dbfsResultPath": null,
       "isJsonSchema": true,
       "metadata": {},
       "overflow": false,
       "plotOptions": {
        "customPlotOptions": {},
        "displayType": "table",
        "pivotAggregation": null,
        "pivotColumns": null,
        "xColumns": null,
        "yColumns": null
       },
       "removedWidgets": [],
       "schema": [
        {
         "metadata": "{}",
         "name": "Appointment_ID",
         "type": "\"string\""
        },
        {
         "metadata": "{}",
         "name": "Client_ID",
         "type": "\"string\""
        },
        {
         "metadata": "{}",
         "name": "Staff_ID",
         "type": "\"string\""
        },
        {
         "metadata": "{}",
         "name": "Service_ID",
         "type": "\"string\""
        },
        {
         "metadata": "{}",
         "name": "Appointment_DateTime",
         "type": "\"timestamp\""
        },
        {
         "metadata": "{}",
         "name": "Client_Rating",
         "type": "\"long\""
        },
        {
         "metadata": "{}",
         "name": "Rebook_Indicator",
         "type": "\"string\""
        },
        {
         "metadata": "{}",
         "name": "Client_Visit_Count",
         "type": "\"long\""
        },
        {
         "metadata": "{}",
         "name": "Month",
         "type": "\"integer\""
        },
        {
         "metadata": "{}",
         "name": "MonthName",
         "type": "\"string\""
        },
        {
         "metadata": "{}",
         "name": "Week",
         "type": "\"integer\""
        }
       ],
       "type": "table"
      }
     },
     "output_type": "display_data"
    }
   ],
   "source": [
    "weekly_demand = salon_spa_season.groupBy(\"Week\").count().orderBy(\"Week\")\n",
    "weekly_demand.show()\n",
    "display(salon_spa_season)\n"
   ]
  },
  {
   "cell_type": "markdown",
   "metadata": {
    "application/vnd.databricks.v1+cell": {
     "cellMetadata": {},
     "inputWidgets": {},
     "nuid": "f7cf9eb1-d9a0-45f4-bfaf-4f454746f93b",
     "showTitle": false,
     "tableResultSettingsMap": {},
     "title": ""
    }
   },
   "source": [
    "3)Staff utilization by time of day -  means checking how many appointments each staff member handles across different hours of the day. This helps see who is busiest during peak times."
   ]
  },
  {
   "cell_type": "code",
   "execution_count": 0,
   "metadata": {
    "application/vnd.databricks.v1+cell": {
     "cellMetadata": {
      "byteLimit": 2048000,
      "rowLimit": 10000
     },
     "inputWidgets": {},
     "nuid": "9c62c84f-5b16-4d7b-b2ff-0190d964b199",
     "showTitle": false,
     "tableResultSettingsMap": {},
     "title": ""
    }
   },
   "outputs": [
    {
     "output_type": "display_data",
     "data": {
      "text/html": [
       "<style scoped>\n",
       "  .table-result-container {\n",
       "    max-height: 300px;\n",
       "    overflow: auto;\n",
       "  }\n",
       "  table, th, td {\n",
       "    border: 1px solid black;\n",
       "    border-collapse: collapse;\n",
       "  }\n",
       "  th, td {\n",
       "    padding: 5px;\n",
       "  }\n",
       "  th {\n",
       "    text-align: left;\n",
       "  }\n",
       "</style><div class='table-result-container'><table class='table-result'><thead style='background-color: white'><tr><th>Staff_ID</th><th>Hour</th><th>count</th></tr></thead><tbody><tr><td>S01</td><td>2</td><td>1</td></tr><tr><td>S01</td><td>3</td><td>3</td></tr><tr><td>S01</td><td>4</td><td>2</td></tr><tr><td>S01</td><td>5</td><td>1</td></tr><tr><td>S01</td><td>21</td><td>2</td></tr><tr><td>S01</td><td>23</td><td>2</td></tr><tr><td>S02</td><td>1</td><td>1</td></tr><tr><td>S02</td><td>2</td><td>1</td></tr><tr><td>S02</td><td>3</td><td>2</td></tr><tr><td>S02</td><td>5</td><td>1</td></tr><tr><td>S02</td><td>6</td><td>1</td></tr><tr><td>S02</td><td>21</td><td>1</td></tr><tr><td>S03</td><td>0</td><td>1</td></tr><tr><td>S03</td><td>1</td><td>1</td></tr><tr><td>S03</td><td>5</td><td>1</td></tr><tr><td>S03</td><td>6</td><td>1</td></tr><tr><td>S03</td><td>8</td><td>1</td></tr><tr><td>S03</td><td>21</td><td>2</td></tr><tr><td>S03</td><td>22</td><td>1</td></tr><tr><td>S03</td><td>23</td><td>1</td></tr><tr><td>S04</td><td>3</td><td>3</td></tr><tr><td>S04</td><td>6</td><td>2</td></tr><tr><td>S04</td><td>23</td><td>1</td></tr><tr><td>S05</td><td>1</td><td>1</td></tr><tr><td>S05</td><td>2</td><td>2</td></tr><tr><td>S05</td><td>3</td><td>1</td></tr><tr><td>S05</td><td>6</td><td>1</td></tr><tr><td>S05</td><td>7</td><td>1</td></tr><tr><td>S05</td><td>8</td><td>1</td></tr><tr><td>S06</td><td>4</td><td>1</td></tr><tr><td>S06</td><td>5</td><td>1</td></tr><tr><td>S06</td><td>8</td><td>1</td></tr><tr><td>S06</td><td>23</td><td>1</td></tr><tr><td>S07</td><td>1</td><td>1</td></tr><tr><td>S07</td><td>23</td><td>2</td></tr><tr><td>S08</td><td>0</td><td>1</td></tr><tr><td>S08</td><td>1</td><td>1</td></tr><tr><td>S08</td><td>5</td><td>1</td></tr><tr><td>S08</td><td>7</td><td>2</td></tr><tr><td>S08</td><td>8</td><td>2</td></tr><tr><td>S08</td><td>21</td><td>1</td></tr></tbody></table></div>"
      ]
     },
     "metadata": {
      "application/vnd.databricks.v1+output": {
       "addedWidgets": {},
       "aggData": [],
       "aggError": "",
       "aggOverflow": false,
       "aggSchema": [],
       "aggSeriesLimitReached": false,
       "aggType": "",
       "arguments": {},
       "columnCustomDisplayInfos": {},
       "data": [
        [
         "S01",
         2,
         1
        ],
        [
         "S01",
         3,
         3
        ],
        [
         "S01",
         4,
         2
        ],
        [
         "S01",
         5,
         1
        ],
        [
         "S01",
         21,
         2
        ],
        [
         "S01",
         23,
         2
        ],
        [
         "S02",
         1,
         1
        ],
        [
         "S02",
         2,
         1
        ],
        [
         "S02",
         3,
         2
        ],
        [
         "S02",
         5,
         1
        ],
        [
         "S02",
         6,
         1
        ],
        [
         "S02",
         21,
         1
        ],
        [
         "S03",
         0,
         1
        ],
        [
         "S03",
         1,
         1
        ],
        [
         "S03",
         5,
         1
        ],
        [
         "S03",
         6,
         1
        ],
        [
         "S03",
         8,
         1
        ],
        [
         "S03",
         21,
         2
        ],
        [
         "S03",
         22,
         1
        ],
        [
         "S03",
         23,
         1
        ],
        [
         "S04",
         3,
         3
        ],
        [
         "S04",
         6,
         2
        ],
        [
         "S04",
         23,
         1
        ],
        [
         "S05",
         1,
         1
        ],
        [
         "S05",
         2,
         2
        ],
        [
         "S05",
         3,
         1
        ],
        [
         "S05",
         6,
         1
        ],
        [
         "S05",
         7,
         1
        ],
        [
         "S05",
         8,
         1
        ],
        [
         "S06",
         4,
         1
        ],
        [
         "S06",
         5,
         1
        ],
        [
         "S06",
         8,
         1
        ],
        [
         "S06",
         23,
         1
        ],
        [
         "S07",
         1,
         1
        ],
        [
         "S07",
         23,
         2
        ],
        [
         "S08",
         0,
         1
        ],
        [
         "S08",
         1,
         1
        ],
        [
         "S08",
         5,
         1
        ],
        [
         "S08",
         7,
         2
        ],
        [
         "S08",
         8,
         2
        ],
        [
         "S08",
         21,
         1
        ]
       ],
       "datasetInfos": [],
       "dbfsResultPath": null,
       "isJsonSchema": true,
       "metadata": {},
       "overflow": false,
       "plotOptions": {
        "customPlotOptions": {},
        "displayType": "table",
        "pivotAggregation": null,
        "pivotColumns": null,
        "xColumns": null,
        "yColumns": null
       },
       "removedWidgets": [],
       "schema": [
        {
         "metadata": "{}",
         "name": "Staff_ID",
         "type": "\"string\""
        },
        {
         "metadata": "{}",
         "name": "Hour",
         "type": "\"integer\""
        },
        {
         "metadata": "{}",
         "name": "count",
         "type": "\"long\""
        }
       ],
       "type": "table"
      }
     },
     "output_type": "display_data"
    },
    {
     "output_type": "display_data",
     "data": {
      "text/html": [
       "<style scoped>\n",
       "  .table-result-container {\n",
       "    max-height: 300px;\n",
       "    overflow: auto;\n",
       "  }\n",
       "  table, th, td {\n",
       "    border: 1px solid black;\n",
       "    border-collapse: collapse;\n",
       "  }\n",
       "  th, td {\n",
       "    padding: 5px;\n",
       "  }\n",
       "  th {\n",
       "    text-align: left;\n",
       "  }\n",
       "</style><div class='table-result-container'><table class='table-result'><thead style='background-color: white'><tr><th>Staff_ID</th><th>Hour</th><th>count</th></tr></thead><tbody><tr><td>S01</td><td>3</td><td>3</td></tr><tr><td>S02</td><td>3</td><td>2</td></tr><tr><td>S03</td><td>21</td><td>2</td></tr><tr><td>S04</td><td>3</td><td>3</td></tr><tr><td>S05</td><td>2</td><td>2</td></tr><tr><td>S06</td><td>4</td><td>1</td></tr><tr><td>S06</td><td>5</td><td>1</td></tr><tr><td>S06</td><td>8</td><td>1</td></tr><tr><td>S06</td><td>23</td><td>1</td></tr><tr><td>S07</td><td>23</td><td>2</td></tr><tr><td>S08</td><td>7</td><td>2</td></tr><tr><td>S08</td><td>8</td><td>2</td></tr></tbody></table></div>"
      ]
     },
     "metadata": {
      "application/vnd.databricks.v1+output": {
       "addedWidgets": {},
       "aggData": [],
       "aggError": "",
       "aggOverflow": false,
       "aggSchema": [],
       "aggSeriesLimitReached": false,
       "aggType": "",
       "arguments": {},
       "columnCustomDisplayInfos": {},
       "data": [
        [
         "S01",
         3,
         3
        ],
        [
         "S02",
         3,
         2
        ],
        [
         "S03",
         21,
         2
        ],
        [
         "S04",
         3,
         3
        ],
        [
         "S05",
         2,
         2
        ],
        [
         "S06",
         4,
         1
        ],
        [
         "S06",
         5,
         1
        ],
        [
         "S06",
         8,
         1
        ],
        [
         "S06",
         23,
         1
        ],
        [
         "S07",
         23,
         2
        ],
        [
         "S08",
         7,
         2
        ],
        [
         "S08",
         8,
         2
        ]
       ],
       "datasetInfos": [],
       "dbfsResultPath": null,
       "isJsonSchema": true,
       "metadata": {},
       "overflow": false,
       "plotOptions": {
        "customPlotOptions": {},
        "displayType": "table",
        "pivotAggregation": null,
        "pivotColumns": null,
        "xColumns": null,
        "yColumns": null
       },
       "removedWidgets": [],
       "schema": [
        {
         "metadata": "{}",
         "name": "Staff_ID",
         "type": "\"string\""
        },
        {
         "metadata": "{}",
         "name": "Hour",
         "type": "\"integer\""
        },
        {
         "metadata": "{}",
         "name": "count",
         "type": "\"long\""
        }
       ],
       "type": "table"
      }
     },
     "output_type": "display_data"
    }
   ],
   "source": [
    "# Load your data from a Databricks table\n",
    "df = spark.read.table(\n",
    "    \"workspace.default.salon_spa_staff_performance_with_time\"\n",
    ")\n",
    "\n",
    "from pyspark.sql.functions import hour, col, rank\n",
    "from pyspark.sql.window import Window\n",
    "\n",
    "# 1. Extract Hour of Appointment\n",
    "salon_spa_util = df.withColumn(\n",
    "    \"Hour\",\n",
    "    hour(\"Appointment_DateTime\")\n",
    ")\n",
    "\n",
    "# 2. Staff utilization by hour\n",
    "staff_utilization = salon_spa_util.groupBy(\n",
    "    \"Staff_ID\",\n",
    "    \"Hour\"\n",
    ").count().orderBy(\n",
    "    \"Staff_ID\",\n",
    "    \"Hour\"\n",
    ")\n",
    "\n",
    "# 3. Peak hour for each staff\n",
    "windowSpec = Window.partitionBy(\"Staff_ID\").orderBy(\n",
    "    col(\"count\").desc()\n",
    ")\n",
    "\n",
    "staff_peak = staff_utilization.withColumn(\n",
    "    \"Rank\",\n",
    "    rank().over(windowSpec)\n",
    ").filter(\n",
    "    col(\"Rank\") == 1\n",
    ").select(\n",
    "    \"Staff_ID\",\n",
    "    \"Hour\",\n",
    "    \"count\"\n",
    ")\n",
    "\n",
    "# Show results\n",
    "display(staff_utilization)\n",
    "display(staff_peak)\n",
    "\n"
   ]
  },
  {
   "cell_type": "markdown",
   "metadata": {
    "application/vnd.databricks.v1+cell": {
     "cellMetadata": {},
     "inputWidgets": {},
     "nuid": "95ba3b56-71d5-43e8-8eca-71dbb1265181",
     "showTitle": false,
     "tableResultSettingsMap": {},
     "title": ""
    }
   },
   "source": [
    "4)Service Performance by Client Loyalty - which services not only get booked the most but also lead to higher rebook rates (loyalty)."
   ]
  },
  {
   "cell_type": "code",
   "execution_count": 0,
   "metadata": {
    "application/vnd.databricks.v1+cell": {
     "cellMetadata": {
      "byteLimit": 2048000,
      "rowLimit": 10000
     },
     "inputWidgets": {},
     "nuid": "184d9ff3-c986-4299-ba6f-5a3007df49f4",
     "showTitle": false,
     "tableResultSettingsMap": {},
     "title": ""
    }
   },
   "outputs": [
    {
     "output_type": "stream",
     "name": "stdout",
     "output_type": "stream",
     "text": [
      "=== Service Performance by Client Loyalty ===\n+----------+--------------+----------+-----------------+\n|Service_ID|Total_Bookings|Rebookings|      Rebook_Rate|\n+----------+--------------+----------+-----------------+\n|      SV05|             5|         4|             80.0|\n|      SV08|             5|         4|             80.0|\n|      SV03|            14|        11|78.57142857142857|\n|      SV04|             6|         4|66.66666666666666|\n|      SV02|             6|         3|             50.0|\n|      SV06|             4|         2|             50.0|\n|      SV10|             4|         2|             50.0|\n|      SV09|             4|         2|             50.0|\n|      SV07|             3|         1|33.33333333333333|\n|      SV01|             4|         1|             25.0|\n+----------+--------------+----------+-----------------+\n\n"
     ]
    },
    {
     "output_type": "display_data",
     "data": {
      "text/html": [
       "<style scoped>\n",
       "  .table-result-container {\n",
       "    max-height: 300px;\n",
       "    overflow: auto;\n",
       "  }\n",
       "  table, th, td {\n",
       "    border: 1px solid black;\n",
       "    border-collapse: collapse;\n",
       "  }\n",
       "  th, td {\n",
       "    padding: 5px;\n",
       "  }\n",
       "  th {\n",
       "    text-align: left;\n",
       "  }\n",
       "</style><div class='table-result-container'><table class='table-result'><thead style='background-color: white'><tr><th>Appointment_ID</th><th>Client_ID</th><th>Staff_ID</th><th>Service_ID</th><th>Appointment_DateTime</th><th>Client_Rating</th><th>Rebook_Indicator</th><th>Client_Visit_Count</th></tr></thead><tbody><tr><td>A001</td><td>C016</td><td>S03</td><td>SV09</td><td>2025-07-14T21:18:49.506Z</td><td>3</td><td>No</td><td>3</td></tr><tr><td>A002</td><td>C015</td><td>S01</td><td>SV03</td><td>2025-05-06T23:18:49.506Z</td><td>4</td><td>No</td><td>3</td></tr><tr><td>A003</td><td>C016</td><td>S06</td><td>SV04</td><td>2025-07-01T04:18:49.506Z</td><td>3</td><td>No</td><td>4</td></tr><tr><td>A004</td><td>C007</td><td>S04</td><td>SV09</td><td>2025-08-09T03:18:49.506Z</td><td>2</td><td>No</td><td>7</td></tr><tr><td>A005</td><td>C004</td><td>S05</td><td>SV06</td><td>2025-05-02T07:18:49.506Z</td><td>2</td><td>No</td><td>15</td></tr><tr><td>A006</td><td>C016</td><td>S01</td><td>SV03</td><td>2025-04-24T02:18:49.506Z</td><td>5</td><td>Yes</td><td>14</td></tr><tr><td>A007</td><td>C006</td><td>S08</td><td>SV08</td><td>2025-08-13T21:18:49.506Z</td><td>2</td><td>Yes</td><td>4</td></tr><tr><td>A008</td><td>C018</td><td>S03</td><td>SV06</td><td>2025-08-19T08:18:49.506Z</td><td>4</td><td>Yes</td><td>10</td></tr><tr><td>A009</td><td>C019</td><td>S04</td><td>SV02</td><td>2025-06-07T03:18:49.506Z</td><td>5</td><td>No</td><td>12</td></tr><tr><td>A010</td><td>C010</td><td>S08</td><td>SV01</td><td>2025-08-14T07:18:49.506Z</td><td>3</td><td>No</td><td>15</td></tr><tr><td>A011</td><td>C009</td><td>S03</td><td>SV04</td><td>2025-04-04T22:18:49.506Z</td><td>2</td><td>No</td><td>10</td></tr><tr><td>A012</td><td>C012</td><td>S02</td><td>SV05</td><td>2025-04-24T21:18:49.506Z</td><td>3</td><td>Yes</td><td>14</td></tr><tr><td>A013</td><td>C004</td><td>S08</td><td>SV08</td><td>2025-06-15T08:18:49.506Z</td><td>4</td><td>No</td><td>1</td></tr><tr><td>A014</td><td>C019</td><td>S03</td><td>SV01</td><td>2025-09-02T01:18:49.506Z</td><td>2</td><td>Yes</td><td>10</td></tr><tr><td>A015</td><td>C015</td><td>S02</td><td>SV02</td><td>2025-06-18T06:18:49.506Z</td><td>5</td><td>No</td><td>12</td></tr><tr><td>A016</td><td>C005</td><td>S06</td><td>SV10</td><td>2025-04-04T05:18:49.506Z</td><td>3</td><td>No</td><td>11</td></tr><tr><td>A017</td><td>C019</td><td>S08</td><td>SV04</td><td>2025-09-13T00:18:49.506Z</td><td>4</td><td>Yes</td><td>11</td></tr><tr><td>A018</td><td>C001</td><td>S05</td><td>SV01</td><td>2025-07-23T03:18:49.506Z</td><td>5</td><td>No</td><td>8</td></tr><tr><td>A019</td><td>C009</td><td>S02</td><td>SV05</td><td>2025-05-24T05:18:49.506Z</td><td>3</td><td>Yes</td><td>13</td></tr><tr><td>A020</td><td>C015</td><td>S07</td><td>SV03</td><td>2025-08-23T01:18:49.506Z</td><td>5</td><td>Yes</td><td>13</td></tr><tr><td>A021</td><td>C001</td><td>S05</td><td>SV10</td><td>2025-04-16T02:18:49.506Z</td><td>5</td><td>No</td><td>12</td></tr><tr><td>A022</td><td>C007</td><td>S05</td><td>SV08</td><td>2025-07-28T08:18:49.506Z</td><td>4</td><td>Yes</td><td>13</td></tr><tr><td>A023</td><td>C011</td><td>S06</td><td>SV03</td><td>2025-09-17T23:18:49.506Z</td><td>1</td><td>Yes</td><td>6</td></tr><tr><td>A024</td><td>C015</td><td>S03</td><td>SV02</td><td>2025-04-29T06:18:49.506Z</td><td>3</td><td>No</td><td>2</td></tr><tr><td>A025</td><td>C006</td><td>S03</td><td>SV04</td><td>2025-07-21T05:18:49.506Z</td><td>1</td><td>Yes</td><td>12</td></tr><tr><td>A026</td><td>C001</td><td>S04</td><td>SV03</td><td>2025-04-29T03:18:49.506Z</td><td>4</td><td>Yes</td><td>11</td></tr><tr><td>A027</td><td>C014</td><td>S01</td><td>SV07</td><td>2025-04-30T03:18:49.506Z</td><td>1</td><td>No</td><td>15</td></tr><tr><td>A028</td><td>C005</td><td>S04</td><td>SV04</td><td>2025-08-07T23:18:49.506Z</td><td>5</td><td>Yes</td><td>10</td></tr><tr><td>A029</td><td>C008</td><td>S01</td><td>SV07</td><td>2025-04-28T21:18:49.506Z</td><td>1</td><td>Yes</td><td>3</td></tr><tr><td>A030</td><td>C015</td><td>S07</td><td>SV03</td><td>2025-05-14T23:18:49.506Z</td><td>2</td><td>No</td><td>3</td></tr><tr><td>A031</td><td>C001</td><td>S01</td><td>SV09</td><td>2025-06-12T04:18:49.506Z</td><td>4</td><td>Yes</td><td>8</td></tr><tr><td>A032</td><td>C017</td><td>S02</td><td>SV02</td><td>2025-08-06T03:18:49.506Z</td><td>5</td><td>Yes</td><td>11</td></tr><tr><td>A033</td><td>C008</td><td>S01</td><td>SV02</td><td>2025-09-17T23:18:49.506Z</td><td>1</td><td>Yes</td><td>6</td></tr><tr><td>A034</td><td>C018</td><td>S08</td><td>SV08</td><td>2025-08-13T07:18:49.506Z</td><td>4</td><td>Yes</td><td>12</td></tr><tr><td>A035</td><td>C003</td><td>S08</td><td>SV03</td><td>2025-05-21T01:18:49.506Z</td><td>5</td><td>Yes</td><td>5</td></tr><tr><td>A036</td><td>C015</td><td>S02</td><td>SV06</td><td>2025-05-20T03:18:49.506Z</td><td>4</td><td>Yes</td><td>13</td></tr><tr><td>A037</td><td>C005</td><td>S01</td><td>SV05</td><td>2025-07-12T03:18:49.506Z</td><td>2</td><td>Yes</td><td>8</td></tr><tr><td>A038</td><td>C013</td><td>S04</td><td>SV03</td><td>2025-08-22T06:18:49.506Z</td><td>4</td><td>Yes</td><td>5</td></tr><tr><td>A039</td><td>C006</td><td>S05</td><td>SV06</td><td>2025-07-10T02:18:49.506Z</td><td>3</td><td>No</td><td>7</td></tr><tr><td>A040</td><td>C010</td><td>S03</td><td>SV03</td><td>2025-08-17T23:18:49.506Z</td><td>5</td><td>Yes</td><td>10</td></tr><tr><td>A041</td><td>C002</td><td>S01</td><td>SV02</td><td>2025-07-19T03:18:49.506Z</td><td>4</td><td>Yes</td><td>15</td></tr><tr><td>A042</td><td>C004</td><td>S02</td><td>SV04</td><td>2025-08-02T02:18:49.506Z</td><td>1</td><td>Yes</td><td>1</td></tr><tr><td>A043</td><td>C012</td><td>S02</td><td>SV07</td><td>2025-06-30T01:18:49.506Z</td><td>2</td><td>No</td><td>11</td></tr><tr><td>A044</td><td>C004</td><td>S05</td><td>SV01</td><td>2025-03-27T01:18:49.506Z</td><td>5</td><td>No</td><td>1</td></tr><tr><td>A045</td><td>C019</td><td>S06</td><td>SV10</td><td>2025-07-20T08:18:49.506Z</td><td>5</td><td>Yes</td><td>12</td></tr><tr><td>A046</td><td>C016</td><td>S05</td><td>SV03</td><td>2025-08-22T06:18:49.506Z</td><td>2</td><td>Yes</td><td>15</td></tr><tr><td>A047</td><td>C020</td><td>S01</td><td>SV08</td><td>2025-09-03T05:18:49.506Z</td><td>3</td><td>Yes</td><td>13</td></tr><tr><td>A048</td><td>C006</td><td>S07</td><td>SV03</td><td>2025-09-07T23:18:49.506Z</td><td>1</td><td>Yes</td><td>8</td></tr><tr><td>A049</td><td>C010</td><td>S01</td><td>SV09</td><td>2025-08-11T04:18:49.506Z</td><td>4</td><td>Yes</td><td>3</td></tr><tr><td>A050</td><td>C012</td><td>S03</td><td>SV05</td><td>2025-04-13T00:18:49.506Z</td><td>3</td><td>Yes</td><td>3</td></tr><tr><td>A051</td><td>C014</td><td>S08</td><td>SV05</td><td>2025-07-11T05:18:49.506Z</td><td>5</td><td>No</td><td>12</td></tr><tr><td>A052</td><td>C018</td><td>S01</td><td>SV03</td><td>2025-03-29T21:18:49.506Z</td><td>5</td><td>No</td><td>5</td></tr><tr><td>A053</td><td>C009</td><td>S08</td><td>SV03</td><td>2025-08-20T08:18:49.506Z</td><td>3</td><td>Yes</td><td>5</td></tr><tr><td>A054</td><td>C003</td><td>S03</td><td>SV03</td><td>2025-05-03T21:18:49.506Z</td><td>1</td><td>Yes</td><td>6</td></tr><tr><td>A055</td><td>C004</td><td>S04</td><td>SV10</td><td>2025-05-07T06:18:49.506Z</td><td>2</td><td>Yes</td><td>15</td></tr></tbody></table></div>"
      ]
     },
     "metadata": {
      "application/vnd.databricks.v1+output": {
       "addedWidgets": {},
       "aggData": [],
       "aggError": "",
       "aggOverflow": false,
       "aggSchema": [],
       "aggSeriesLimitReached": false,
       "aggType": "",
       "arguments": {},
       "columnCustomDisplayInfos": {},
       "data": [
        [
         "A001",
         "C016",
         "S03",
         "SV09",
         "2025-07-14T21:18:49.506Z",
         3,
         "No",
         3
        ],
        [
         "A002",
         "C015",
         "S01",
         "SV03",
         "2025-05-06T23:18:49.506Z",
         4,
         "No",
         3
        ],
        [
         "A003",
         "C016",
         "S06",
         "SV04",
         "2025-07-01T04:18:49.506Z",
         3,
         "No",
         4
        ],
        [
         "A004",
         "C007",
         "S04",
         "SV09",
         "2025-08-09T03:18:49.506Z",
         2,
         "No",
         7
        ],
        [
         "A005",
         "C004",
         "S05",
         "SV06",
         "2025-05-02T07:18:49.506Z",
         2,
         "No",
         15
        ],
        [
         "A006",
         "C016",
         "S01",
         "SV03",
         "2025-04-24T02:18:49.506Z",
         5,
         "Yes",
         14
        ],
        [
         "A007",
         "C006",
         "S08",
         "SV08",
         "2025-08-13T21:18:49.506Z",
         2,
         "Yes",
         4
        ],
        [
         "A008",
         "C018",
         "S03",
         "SV06",
         "2025-08-19T08:18:49.506Z",
         4,
         "Yes",
         10
        ],
        [
         "A009",
         "C019",
         "S04",
         "SV02",
         "2025-06-07T03:18:49.506Z",
         5,
         "No",
         12
        ],
        [
         "A010",
         "C010",
         "S08",
         "SV01",
         "2025-08-14T07:18:49.506Z",
         3,
         "No",
         15
        ],
        [
         "A011",
         "C009",
         "S03",
         "SV04",
         "2025-04-04T22:18:49.506Z",
         2,
         "No",
         10
        ],
        [
         "A012",
         "C012",
         "S02",
         "SV05",
         "2025-04-24T21:18:49.506Z",
         3,
         "Yes",
         14
        ],
        [
         "A013",
         "C004",
         "S08",
         "SV08",
         "2025-06-15T08:18:49.506Z",
         4,
         "No",
         1
        ],
        [
         "A014",
         "C019",
         "S03",
         "SV01",
         "2025-09-02T01:18:49.506Z",
         2,
         "Yes",
         10
        ],
        [
         "A015",
         "C015",
         "S02",
         "SV02",
         "2025-06-18T06:18:49.506Z",
         5,
         "No",
         12
        ],
        [
         "A016",
         "C005",
         "S06",
         "SV10",
         "2025-04-04T05:18:49.506Z",
         3,
         "No",
         11
        ],
        [
         "A017",
         "C019",
         "S08",
         "SV04",
         "2025-09-13T00:18:49.506Z",
         4,
         "Yes",
         11
        ],
        [
         "A018",
         "C001",
         "S05",
         "SV01",
         "2025-07-23T03:18:49.506Z",
         5,
         "No",
         8
        ],
        [
         "A019",
         "C009",
         "S02",
         "SV05",
         "2025-05-24T05:18:49.506Z",
         3,
         "Yes",
         13
        ],
        [
         "A020",
         "C015",
         "S07",
         "SV03",
         "2025-08-23T01:18:49.506Z",
         5,
         "Yes",
         13
        ],
        [
         "A021",
         "C001",
         "S05",
         "SV10",
         "2025-04-16T02:18:49.506Z",
         5,
         "No",
         12
        ],
        [
         "A022",
         "C007",
         "S05",
         "SV08",
         "2025-07-28T08:18:49.506Z",
         4,
         "Yes",
         13
        ],
        [
         "A023",
         "C011",
         "S06",
         "SV03",
         "2025-09-17T23:18:49.506Z",
         1,
         "Yes",
         6
        ],
        [
         "A024",
         "C015",
         "S03",
         "SV02",
         "2025-04-29T06:18:49.506Z",
         3,
         "No",
         2
        ],
        [
         "A025",
         "C006",
         "S03",
         "SV04",
         "2025-07-21T05:18:49.506Z",
         1,
         "Yes",
         12
        ],
        [
         "A026",
         "C001",
         "S04",
         "SV03",
         "2025-04-29T03:18:49.506Z",
         4,
         "Yes",
         11
        ],
        [
         "A027",
         "C014",
         "S01",
         "SV07",
         "2025-04-30T03:18:49.506Z",
         1,
         "No",
         15
        ],
        [
         "A028",
         "C005",
         "S04",
         "SV04",
         "2025-08-07T23:18:49.506Z",
         5,
         "Yes",
         10
        ],
        [
         "A029",
         "C008",
         "S01",
         "SV07",
         "2025-04-28T21:18:49.506Z",
         1,
         "Yes",
         3
        ],
        [
         "A030",
         "C015",
         "S07",
         "SV03",
         "2025-05-14T23:18:49.506Z",
         2,
         "No",
         3
        ],
        [
         "A031",
         "C001",
         "S01",
         "SV09",
         "2025-06-12T04:18:49.506Z",
         4,
         "Yes",
         8
        ],
        [
         "A032",
         "C017",
         "S02",
         "SV02",
         "2025-08-06T03:18:49.506Z",
         5,
         "Yes",
         11
        ],
        [
         "A033",
         "C008",
         "S01",
         "SV02",
         "2025-09-17T23:18:49.506Z",
         1,
         "Yes",
         6
        ],
        [
         "A034",
         "C018",
         "S08",
         "SV08",
         "2025-08-13T07:18:49.506Z",
         4,
         "Yes",
         12
        ],
        [
         "A035",
         "C003",
         "S08",
         "SV03",
         "2025-05-21T01:18:49.506Z",
         5,
         "Yes",
         5
        ],
        [
         "A036",
         "C015",
         "S02",
         "SV06",
         "2025-05-20T03:18:49.506Z",
         4,
         "Yes",
         13
        ],
        [
         "A037",
         "C005",
         "S01",
         "SV05",
         "2025-07-12T03:18:49.506Z",
         2,
         "Yes",
         8
        ],
        [
         "A038",
         "C013",
         "S04",
         "SV03",
         "2025-08-22T06:18:49.506Z",
         4,
         "Yes",
         5
        ],
        [
         "A039",
         "C006",
         "S05",
         "SV06",
         "2025-07-10T02:18:49.506Z",
         3,
         "No",
         7
        ],
        [
         "A040",
         "C010",
         "S03",
         "SV03",
         "2025-08-17T23:18:49.506Z",
         5,
         "Yes",
         10
        ],
        [
         "A041",
         "C002",
         "S01",
         "SV02",
         "2025-07-19T03:18:49.506Z",
         4,
         "Yes",
         15
        ],
        [
         "A042",
         "C004",
         "S02",
         "SV04",
         "2025-08-02T02:18:49.506Z",
         1,
         "Yes",
         1
        ],
        [
         "A043",
         "C012",
         "S02",
         "SV07",
         "2025-06-30T01:18:49.506Z",
         2,
         "No",
         11
        ],
        [
         "A044",
         "C004",
         "S05",
         "SV01",
         "2025-03-27T01:18:49.506Z",
         5,
         "No",
         1
        ],
        [
         "A045",
         "C019",
         "S06",
         "SV10",
         "2025-07-20T08:18:49.506Z",
         5,
         "Yes",
         12
        ],
        [
         "A046",
         "C016",
         "S05",
         "SV03",
         "2025-08-22T06:18:49.506Z",
         2,
         "Yes",
         15
        ],
        [
         "A047",
         "C020",
         "S01",
         "SV08",
         "2025-09-03T05:18:49.506Z",
         3,
         "Yes",
         13
        ],
        [
         "A048",
         "C006",
         "S07",
         "SV03",
         "2025-09-07T23:18:49.506Z",
         1,
         "Yes",
         8
        ],
        [
         "A049",
         "C010",
         "S01",
         "SV09",
         "2025-08-11T04:18:49.506Z",
         4,
         "Yes",
         3
        ],
        [
         "A050",
         "C012",
         "S03",
         "SV05",
         "2025-04-13T00:18:49.506Z",
         3,
         "Yes",
         3
        ],
        [
         "A051",
         "C014",
         "S08",
         "SV05",
         "2025-07-11T05:18:49.506Z",
         5,
         "No",
         12
        ],
        [
         "A052",
         "C018",
         "S01",
         "SV03",
         "2025-03-29T21:18:49.506Z",
         5,
         "No",
         5
        ],
        [
         "A053",
         "C009",
         "S08",
         "SV03",
         "2025-08-20T08:18:49.506Z",
         3,
         "Yes",
         5
        ],
        [
         "A054",
         "C003",
         "S03",
         "SV03",
         "2025-05-03T21:18:49.506Z",
         1,
         "Yes",
         6
        ],
        [
         "A055",
         "C004",
         "S04",
         "SV10",
         "2025-05-07T06:18:49.506Z",
         2,
         "Yes",
         15
        ]
       ],
       "datasetInfos": [],
       "dbfsResultPath": null,
       "isJsonSchema": true,
       "metadata": {},
       "overflow": false,
       "plotOptions": {
        "customPlotOptions": {},
        "displayType": "table",
        "pivotAggregation": null,
        "pivotColumns": null,
        "xColumns": null,
        "yColumns": null
       },
       "removedWidgets": [],
       "schema": [
        {
         "metadata": "{}",
         "name": "Appointment_ID",
         "type": "\"string\""
        },
        {
         "metadata": "{}",
         "name": "Client_ID",
         "type": "\"string\""
        },
        {
         "metadata": "{}",
         "name": "Staff_ID",
         "type": "\"string\""
        },
        {
         "metadata": "{}",
         "name": "Service_ID",
         "type": "\"string\""
        },
        {
         "metadata": "{}",
         "name": "Appointment_DateTime",
         "type": "\"timestamp\""
        },
        {
         "metadata": "{}",
         "name": "Client_Rating",
         "type": "\"long\""
        },
        {
         "metadata": "{}",
         "name": "Rebook_Indicator",
         "type": "\"string\""
        },
        {
         "metadata": "{}",
         "name": "Client_Visit_Count",
         "type": "\"long\""
        }
       ],
       "type": "table"
      }
     },
     "output_type": "display_data"
    }
   ],
   "source": [
    "from pyspark.sql.functions import col, count, when\n",
    "\n",
    "# Calculate total bookings and rebookings per service\n",
    "service_loyalty = salon_spa.groupBy(\"Service_ID\") \\\n",
    "    .agg(\n",
    "        count(\"*\").alias(\"Total_Bookings\"),\n",
    "        count(when(col(\"Rebook_Indicator\") == \"Yes\", 1)).alias(\"Rebookings\")\n",
    "    ) \\\n",
    "    .withColumn(\"Rebook_Rate\", (col(\"Rebookings\") / col(\"Total_Bookings\")) * 100) \\\n",
    "    .orderBy(col(\"Rebook_Rate\").desc())\n",
    "\n",
    "print(\"=== Service Performance by Client Loyalty ===\")\n",
    "service_loyalty.show()\n",
    "display(salon_spa)\n"
   ]
  }
 ],
 "metadata": {
  "application/vnd.databricks.v1+notebook": {
   "computePreferences": null,
   "dashboards": [],
   "environmentMetadata": {
    "base_environment": "",
    "environment_version": "3"
   },
   "inputWidgetPreferences": null,
   "language": "python",
   "notebookMetadata": {
    "pythonIndentUnit": 4
   },
   "notebookName": "Untitled Notebook 2025-09-17 17:54:19",
   "widgets": {}
  },
  "language_info": {
   "name": "python"
  }
 },
 "nbformat": 4,
 "nbformat_minor": 0
}